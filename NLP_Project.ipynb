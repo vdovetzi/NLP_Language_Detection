{
  "nbformat": 4,
  "nbformat_minor": 0,
  "metadata": {
    "colab": {
      "provenance": [],
      "authorship_tag": "ABX9TyMIQqmhirz7/T/q83Rl40ZP",
      "include_colab_link": true
    },
    "kernelspec": {
      "name": "python3",
      "display_name": "Python 3"
    },
    "language_info": {
      "name": "python"
    }
  },
  "cells": [
    {
      "cell_type": "markdown",
      "metadata": {
        "id": "view-in-github",
        "colab_type": "text"
      },
      "source": [
        "<a href=\"https://colab.research.google.com/github/vdovetzi/NLP_Language_Detection/blob/main/NLP_Project.ipynb\" target=\"_parent\"><img src=\"https://colab.research.google.com/assets/colab-badge.svg\" alt=\"Open In Colab\"/></a>"
      ]
    },
    {
      "cell_type": "markdown",
      "source": [
        "# Постановка задачи и формулировка задания"
      ],
      "metadata": {
        "id": "_In0EH508sVZ"
      }
    },
    {
      "cell_type": "markdown",
      "source": [
        "Имеется $dataset$ с предложениями на разных языках. Хочется обучить модель, которая сможеть решать задачу $language$ $detection$.\n",
        "\n",
        "**Формулировка задания:**\n",
        "\n",
        "*  На вход подается предложение $sentence$.\n",
        "*  Вызов функции $predict(sentence)$ выводит на экран, на каком языке написано предложение.\n",
        "\n"
      ],
      "metadata": {
        "id": "29zJ-_lr_AF3"
      }
    },
    {
      "cell_type": "markdown",
      "source": [
        "# Необходимая теория"
      ],
      "metadata": {
        "id": "yBB_5QXVeVOm"
      }
    },
    {
      "cell_type": "markdown",
      "source": [
        "\n",
        "1.  Токенизация;\n",
        "2. Stemming;\n",
        "3. Stopwords;\n",
        "4. Bag of Words;\n",
        "5. Выборки: тестовая и тренировочная;\n",
        "6. Модель\n",
        "\n"
      ],
      "metadata": {
        "id": "brDurR6vtEZf"
      }
    },
    {
      "cell_type": "markdown",
      "source": [
        "# Используемые инструменты"
      ],
      "metadata": {
        "id": "UuzL-1VJgVOI"
      }
    },
    {
      "cell_type": "markdown",
      "source": [
        "В своей работе я буду использовать следующие инструменты:\n",
        "\n",
        "\n",
        "\n",
        "*   Библиотека $pandas$ для обработки и анализа данных\n",
        "*   Библиотека $numpy$ для линала\n",
        "* Библиотека $re$ для регулярных выражений\n",
        "* Библиотека $seaborn$ для красивых визуализаций.\n",
        "* Библиотека $matplotlib.pyplot$ для построений графиков\n",
        "\n"
      ],
      "metadata": {
        "id": "k__OSqAajwvN"
      }
    },
    {
      "cell_type": "markdown",
      "source": [
        "# Посмотрим поподробнее на имеющийся $dataset$"
      ],
      "metadata": {
        "id": "l6Pt41j0wQW4"
      }
    },
    {
      "cell_type": "markdown",
      "source": [],
      "metadata": {
        "id": "yJqr2h0fxAAe"
      }
    }
  ]
}