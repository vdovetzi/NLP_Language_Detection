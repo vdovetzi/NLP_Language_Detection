{
  "nbformat": 4,
  "nbformat_minor": 0,
  "metadata": {
    "colab": {
      "provenance": [],
      "collapsed_sections": [
        "_In0EH508sVZ",
        "UuzL-1VJgVOI",
        "l6Pt41j0wQW4",
        "uSjoEeWF080B"
      ],
      "authorship_tag": "ABX9TyN9A//uTSf8lW2CdrOrrk5c",
      "include_colab_link": true
    },
    "kernelspec": {
      "name": "python3",
      "display_name": "Python 3"
    },
    "language_info": {
      "name": "python"
    }
  },
  "cells": [
    {
      "cell_type": "markdown",
      "metadata": {
        "id": "view-in-github",
        "colab_type": "text"
      },
      "source": [
        "<a href=\"https://colab.research.google.com/github/vdovetzi/NLP_Language_Detection/blob/main/NLP_Project.ipynb\" target=\"_parent\"><img src=\"https://colab.research.google.com/assets/colab-badge.svg\" alt=\"Open In Colab\"/></a>"
      ]
    },
    {
      "cell_type": "markdown",
      "source": [
        "# Постановка задачи и формулировка задания"
      ],
      "metadata": {
        "id": "_In0EH508sVZ"
      }
    },
    {
      "cell_type": "markdown",
      "source": [
        "Имеется $dataset$ с предложениями на разных языках. Хочется обучить модель, которая сможеть решать задачу $language$ $detection$.\n",
        "\n",
        "**Формулировка задания:**\n",
        "\n",
        "*  На вход подается предложение $sentence$.\n",
        "*  Вызов функции $predict(sentence)$ выводит на экран, на каком языке написано предложение.\n",
        "\n"
      ],
      "metadata": {
        "id": "29zJ-_lr_AF3"
      }
    },
    {
      "cell_type": "markdown",
      "source": [
        "# Необходимая теория"
      ],
      "metadata": {
        "id": "yBB_5QXVeVOm"
      }
    },
    {
      "cell_type": "markdown",
      "source": [
        "1. Bag of Words;\n",
        "2. Выборки: тестовая и тренировочная;\n",
        "3. Модель;\n",
        "4. Владение keras;\n",
        "5. Понимание того, как работает нейронная сеть;\n",
        "6. Наивные байесовские классификаторы;\n",
        "7. Классификаторы;\n",
        "8. Оптимизаторы;\n",
        "9. Алгоритм обратного распространения ошибки\n",
        "\n"
      ],
      "metadata": {
        "id": "brDurR6vtEZf"
      }
    },
    {
      "cell_type": "markdown",
      "source": [
        "# Используемые инструменты"
      ],
      "metadata": {
        "id": "UuzL-1VJgVOI"
      }
    },
    {
      "cell_type": "markdown",
      "source": [
        "В своей работе я буду использовать следующие инструменты:\n",
        "\n",
        "\n",
        "\n",
        "*   Библиотека $pandas$ для обработки и анализа данных\n",
        "*   Библиотека $numpy$ для линала\n",
        "* Библиотека $re$ для регулярных выражений\n",
        "* Библиотека $seaborn$ для красивых визуализаций\n",
        "* Библиотека $matplotlib.pyplot$ для построений графиков\n",
        "* Библиотека $string$, чтобы воспользоваться $string.punctuation$\n",
        "* Библиотека $nltk$ нужна для всего, так как это основной инструмент\n",
        "* Библиотека $sklearn.model$_$selection$ для разбиения на выборки\n",
        "* Библиотека $sklearn.feature$_$extraction.text$ для использования модели $Bag$ $of$ $Words$ и использования $TF-IDF$ метрики\n",
        "* Библиотека $sklearn.naive$_$bayes$ для наивного байесовского классификатора\n",
        "* Библиотека $sklearn.metrics$ для оценки качества модели\n",
        "* Библиотека $sklearn$ для $pipeline$\n",
        "* Библиотека $sklearn.linear$_$model$ для алгоритма обучения $LogisticRegression$\n",
        "* Библиотека $keras$ для использования более умных нейросетей\n",
        "* Библиотека $tensorflow$, чтобы пользоваться нейросетями на более низком уровне\n",
        "\n"
      ],
      "metadata": {
        "id": "k__OSqAajwvN"
      }
    },
    {
      "cell_type": "code",
      "source": [
        "import nltk\n",
        "nltk.download('stopwords')\n",
        "nltk.download('punkt')\n",
        "import pandas as pd\n",
        "import numpy as np\n",
        "import re\n",
        "import seaborn as sns\n",
        "import matplotlib.pyplot as plt\n",
        "import string\n",
        "from nltk.corpus import stopwords\n",
        "from nltk.tokenize import word_tokenize\n",
        "from nltk.stem import SnowballStemmer\n",
        "from sklearn.model_selection import train_test_split\n",
        "from sklearn.feature_extraction.text import CountVectorizer\n",
        "from sklearn.naive_bayes import MultinomialNB\n",
        "from sklearn.metrics import accuracy_score, confusion_matrix, classification_report\n",
        "from sklearn.feature_extraction.text import TfidfVectorizer\n",
        "from sklearn import pipeline\n",
        "from sklearn.linear_model import LogisticRegression\n",
        "import keras\n",
        "import tensorflow as tf\n",
        "from sklearn.pipeline import Pipeline"
      ],
      "metadata": {
        "colab": {
          "base_uri": "https://localhost:8080/"
        },
        "id": "091W_iIRtMoo",
        "outputId": "8d0d0732-8379-4e24-9c6c-857d7655d03c"
      },
      "execution_count": 1,
      "outputs": [
        {
          "output_type": "stream",
          "name": "stderr",
          "text": [
            "[nltk_data] Downloading package stopwords to /root/nltk_data...\n",
            "[nltk_data]   Unzipping corpora/stopwords.zip.\n",
            "[nltk_data] Downloading package punkt to /root/nltk_data...\n",
            "[nltk_data]   Unzipping tokenizers/punkt.zip.\n"
          ]
        }
      ]
    },
    {
      "cell_type": "markdown",
      "source": [
        "# Посмотрим поподробнее на имеющийся $dataset$"
      ],
      "metadata": {
        "id": "l6Pt41j0wQW4"
      }
    },
    {
      "cell_type": "code",
      "source": [
        "dataset = pd.read_csv(\"Language Detection.csv\")\n",
        "dataset.head(10) # возращает первые 10 строчек"
      ],
      "metadata": {
        "colab": {
          "base_uri": "https://localhost:8080/",
          "height": 0
        },
        "id": "L8TXj1tetHpC",
        "outputId": "547e1232-2e15-4c64-b5cb-50659394dc8c"
      },
      "execution_count": 4,
      "outputs": [
        {
          "output_type": "execute_result",
          "data": {
            "text/plain": [
              "                                                Text Language\n",
              "0   Nature, in the broadest sense, is the natural...  English\n",
              "1  \"Nature\" can refer to the phenomena of the phy...  English\n",
              "2  The study of nature is a large, if not the onl...  English\n",
              "3  Although humans are part of nature, human acti...  English\n",
              "4  [1] The word nature is borrowed from the Old F...  English\n",
              "5  [2] In ancient philosophy, natura is mostly us...  English\n",
              "6  [3][4] \\nThe concept of nature as a whole, the...  English\n",
              "7  During the advent of modern scientific method ...  English\n",
              "8  [5][6] With the Industrial revolution, nature ...  English\n",
              "9  However, a vitalist vision of nature, closer t...  English"
            ],
            "text/html": [
              "\n",
              "\n",
              "  <div id=\"df-08ecc12d-6b3e-4e3b-9928-1f1ce9e5aa8d\">\n",
              "    <div class=\"colab-df-container\">\n",
              "      <div>\n",
              "<style scoped>\n",
              "    .dataframe tbody tr th:only-of-type {\n",
              "        vertical-align: middle;\n",
              "    }\n",
              "\n",
              "    .dataframe tbody tr th {\n",
              "        vertical-align: top;\n",
              "    }\n",
              "\n",
              "    .dataframe thead th {\n",
              "        text-align: right;\n",
              "    }\n",
              "</style>\n",
              "<table border=\"1\" class=\"dataframe\">\n",
              "  <thead>\n",
              "    <tr style=\"text-align: right;\">\n",
              "      <th></th>\n",
              "      <th>Text</th>\n",
              "      <th>Language</th>\n",
              "    </tr>\n",
              "  </thead>\n",
              "  <tbody>\n",
              "    <tr>\n",
              "      <th>0</th>\n",
              "      <td>Nature, in the broadest sense, is the natural...</td>\n",
              "      <td>English</td>\n",
              "    </tr>\n",
              "    <tr>\n",
              "      <th>1</th>\n",
              "      <td>\"Nature\" can refer to the phenomena of the phy...</td>\n",
              "      <td>English</td>\n",
              "    </tr>\n",
              "    <tr>\n",
              "      <th>2</th>\n",
              "      <td>The study of nature is a large, if not the onl...</td>\n",
              "      <td>English</td>\n",
              "    </tr>\n",
              "    <tr>\n",
              "      <th>3</th>\n",
              "      <td>Although humans are part of nature, human acti...</td>\n",
              "      <td>English</td>\n",
              "    </tr>\n",
              "    <tr>\n",
              "      <th>4</th>\n",
              "      <td>[1] The word nature is borrowed from the Old F...</td>\n",
              "      <td>English</td>\n",
              "    </tr>\n",
              "    <tr>\n",
              "      <th>5</th>\n",
              "      <td>[2] In ancient philosophy, natura is mostly us...</td>\n",
              "      <td>English</td>\n",
              "    </tr>\n",
              "    <tr>\n",
              "      <th>6</th>\n",
              "      <td>[3][4] \\nThe concept of nature as a whole, the...</td>\n",
              "      <td>English</td>\n",
              "    </tr>\n",
              "    <tr>\n",
              "      <th>7</th>\n",
              "      <td>During the advent of modern scientific method ...</td>\n",
              "      <td>English</td>\n",
              "    </tr>\n",
              "    <tr>\n",
              "      <th>8</th>\n",
              "      <td>[5][6] With the Industrial revolution, nature ...</td>\n",
              "      <td>English</td>\n",
              "    </tr>\n",
              "    <tr>\n",
              "      <th>9</th>\n",
              "      <td>However, a vitalist vision of nature, closer t...</td>\n",
              "      <td>English</td>\n",
              "    </tr>\n",
              "  </tbody>\n",
              "</table>\n",
              "</div>\n",
              "      <button class=\"colab-df-convert\" onclick=\"convertToInteractive('df-08ecc12d-6b3e-4e3b-9928-1f1ce9e5aa8d')\"\n",
              "              title=\"Convert this dataframe to an interactive table.\"\n",
              "              style=\"display:none;\">\n",
              "\n",
              "  <svg xmlns=\"http://www.w3.org/2000/svg\" height=\"24px\"viewBox=\"0 0 24 24\"\n",
              "       width=\"24px\">\n",
              "    <path d=\"M0 0h24v24H0V0z\" fill=\"none\"/>\n",
              "    <path d=\"M18.56 5.44l.94 2.06.94-2.06 2.06-.94-2.06-.94-.94-2.06-.94 2.06-2.06.94zm-11 1L8.5 8.5l.94-2.06 2.06-.94-2.06-.94L8.5 2.5l-.94 2.06-2.06.94zm10 10l.94 2.06.94-2.06 2.06-.94-2.06-.94-.94-2.06-.94 2.06-2.06.94z\"/><path d=\"M17.41 7.96l-1.37-1.37c-.4-.4-.92-.59-1.43-.59-.52 0-1.04.2-1.43.59L10.3 9.45l-7.72 7.72c-.78.78-.78 2.05 0 2.83L4 21.41c.39.39.9.59 1.41.59.51 0 1.02-.2 1.41-.59l7.78-7.78 2.81-2.81c.8-.78.8-2.07 0-2.86zM5.41 20L4 18.59l7.72-7.72 1.47 1.35L5.41 20z\"/>\n",
              "  </svg>\n",
              "      </button>\n",
              "\n",
              "\n",
              "\n",
              "    <div id=\"df-9147b39f-c079-44be-891b-dbed586dd19d\">\n",
              "      <button class=\"colab-df-quickchart\" onclick=\"quickchart('df-9147b39f-c079-44be-891b-dbed586dd19d')\"\n",
              "              title=\"Suggest charts.\"\n",
              "              style=\"display:none;\">\n",
              "\n",
              "<svg xmlns=\"http://www.w3.org/2000/svg\" height=\"24px\"viewBox=\"0 0 24 24\"\n",
              "     width=\"24px\">\n",
              "    <g>\n",
              "        <path d=\"M19 3H5c-1.1 0-2 .9-2 2v14c0 1.1.9 2 2 2h14c1.1 0 2-.9 2-2V5c0-1.1-.9-2-2-2zM9 17H7v-7h2v7zm4 0h-2V7h2v10zm4 0h-2v-4h2v4z\"/>\n",
              "    </g>\n",
              "</svg>\n",
              "      </button>\n",
              "    </div>\n",
              "\n",
              "<style>\n",
              "  .colab-df-quickchart {\n",
              "    background-color: #E8F0FE;\n",
              "    border: none;\n",
              "    border-radius: 50%;\n",
              "    cursor: pointer;\n",
              "    display: none;\n",
              "    fill: #1967D2;\n",
              "    height: 32px;\n",
              "    padding: 0 0 0 0;\n",
              "    width: 32px;\n",
              "  }\n",
              "\n",
              "  .colab-df-quickchart:hover {\n",
              "    background-color: #E2EBFA;\n",
              "    box-shadow: 0px 1px 2px rgba(60, 64, 67, 0.3), 0px 1px 3px 1px rgba(60, 64, 67, 0.15);\n",
              "    fill: #174EA6;\n",
              "  }\n",
              "\n",
              "  [theme=dark] .colab-df-quickchart {\n",
              "    background-color: #3B4455;\n",
              "    fill: #D2E3FC;\n",
              "  }\n",
              "\n",
              "  [theme=dark] .colab-df-quickchart:hover {\n",
              "    background-color: #434B5C;\n",
              "    box-shadow: 0px 1px 3px 1px rgba(0, 0, 0, 0.15);\n",
              "    filter: drop-shadow(0px 1px 2px rgba(0, 0, 0, 0.3));\n",
              "    fill: #FFFFFF;\n",
              "  }\n",
              "</style>\n",
              "\n",
              "    <script>\n",
              "      async function quickchart(key) {\n",
              "        const containerElement = document.querySelector('#' + key);\n",
              "        const charts = await google.colab.kernel.invokeFunction(\n",
              "            'suggestCharts', [key], {});\n",
              "      }\n",
              "    </script>\n",
              "\n",
              "      <script>\n",
              "\n",
              "function displayQuickchartButton(domScope) {\n",
              "  let quickchartButtonEl =\n",
              "    domScope.querySelector('#df-9147b39f-c079-44be-891b-dbed586dd19d button.colab-df-quickchart');\n",
              "  quickchartButtonEl.style.display =\n",
              "    google.colab.kernel.accessAllowed ? 'block' : 'none';\n",
              "}\n",
              "\n",
              "        displayQuickchartButton(document);\n",
              "      </script>\n",
              "      <style>\n",
              "    .colab-df-container {\n",
              "      display:flex;\n",
              "      flex-wrap:wrap;\n",
              "      gap: 12px;\n",
              "    }\n",
              "\n",
              "    .colab-df-convert {\n",
              "      background-color: #E8F0FE;\n",
              "      border: none;\n",
              "      border-radius: 50%;\n",
              "      cursor: pointer;\n",
              "      display: none;\n",
              "      fill: #1967D2;\n",
              "      height: 32px;\n",
              "      padding: 0 0 0 0;\n",
              "      width: 32px;\n",
              "    }\n",
              "\n",
              "    .colab-df-convert:hover {\n",
              "      background-color: #E2EBFA;\n",
              "      box-shadow: 0px 1px 2px rgba(60, 64, 67, 0.3), 0px 1px 3px 1px rgba(60, 64, 67, 0.15);\n",
              "      fill: #174EA6;\n",
              "    }\n",
              "\n",
              "    [theme=dark] .colab-df-convert {\n",
              "      background-color: #3B4455;\n",
              "      fill: #D2E3FC;\n",
              "    }\n",
              "\n",
              "    [theme=dark] .colab-df-convert:hover {\n",
              "      background-color: #434B5C;\n",
              "      box-shadow: 0px 1px 3px 1px rgba(0, 0, 0, 0.15);\n",
              "      filter: drop-shadow(0px 1px 2px rgba(0, 0, 0, 0.3));\n",
              "      fill: #FFFFFF;\n",
              "    }\n",
              "  </style>\n",
              "\n",
              "      <script>\n",
              "        const buttonEl =\n",
              "          document.querySelector('#df-08ecc12d-6b3e-4e3b-9928-1f1ce9e5aa8d button.colab-df-convert');\n",
              "        buttonEl.style.display =\n",
              "          google.colab.kernel.accessAllowed ? 'block' : 'none';\n",
              "\n",
              "        async function convertToInteractive(key) {\n",
              "          const element = document.querySelector('#df-08ecc12d-6b3e-4e3b-9928-1f1ce9e5aa8d');\n",
              "          const dataTable =\n",
              "            await google.colab.kernel.invokeFunction('convertToInteractive',\n",
              "                                                     [key], {});\n",
              "          if (!dataTable) return;\n",
              "\n",
              "          const docLinkHtml = 'Like what you see? Visit the ' +\n",
              "            '<a target=\"_blank\" href=https://colab.research.google.com/notebooks/data_table.ipynb>data table notebook</a>'\n",
              "            + ' to learn more about interactive tables.';\n",
              "          element.innerHTML = '';\n",
              "          dataTable['output_type'] = 'display_data';\n",
              "          await google.colab.output.renderOutput(dataTable, element);\n",
              "          const docLink = document.createElement('div');\n",
              "          docLink.innerHTML = docLinkHtml;\n",
              "          element.appendChild(docLink);\n",
              "        }\n",
              "      </script>\n",
              "    </div>\n",
              "  </div>\n"
            ]
          },
          "metadata": {},
          "execution_count": 4
        }
      ]
    },
    {
      "cell_type": "markdown",
      "source": [
        "Как можем заметить, мы имеем формат **предложение** - **язык**.\n",
        "\n",
        "Посмотрим теперь на то, какие языки мы вообще имеем в нашем $dataset$. Изобразим это в виде красивой столбчатой и круговой диаграмок."
      ],
      "metadata": {
        "id": "lVaOpyxaurpJ"
      }
    },
    {
      "cell_type": "code",
      "source": [
        "plt.figure(figsize=(10, 5))\n",
        "sns.countplot(data= dataset, x=\"Language\", order=dataset[\"Language\"].value_counts().index)\n",
        "plt.xticks(rotation=30)\n",
        "plt.show()"
      ],
      "metadata": {
        "colab": {
          "base_uri": "https://localhost:8080/",
          "height": 0
        },
        "id": "R3k-gZpXvASg",
        "outputId": "e06f156b-c688-4183-fd57-ae9f3c1c66f0"
      },
      "execution_count": 5,
      "outputs": [
        {
          "output_type": "display_data",
          "data": {
            "text/plain": [
              "<Figure size 1000x500 with 1 Axes>"
            ],
            "image/png": "[encoded data removed]"
          },
          "metadata": {}
        }
      ]
    },
    {
      "cell_type": "code",
      "source": [
        "plt.figure(figsize=(8,8))\n",
        "plt.pie(x = dataset['Language'].value_counts() ,autopct='%1.1f%%' ,labels=dataset['Language'].value_counts().index)\n",
        "plt.title('Languages',fontsize=20)\n",
        "plt.show"
      ],
      "metadata": {
        "colab": {
          "base_uri": "https://localhost:8080/",
          "height": 0
        },
        "id": "u_Bmkrst0cGQ",
        "outputId": "9f1a0886-d497-426c-b4eb-addd2021cd13"
      },
      "execution_count": 6,
      "outputs": [
        {
          "output_type": "execute_result",
          "data": {
            "text/plain": [
              "<function matplotlib.pyplot.show(close=None, block=None)>"
            ]
          },
          "metadata": {},
          "execution_count": 6
        },
        {
          "output_type": "display_data",
          "data": {
            "text/plain": [
              "<Figure size 800x800 with 1 Axes>"
            ],
            "image/png": "[encoded data removed]"
          },
          "metadata": {}
        }
      ]
    },
    {
      "cell_type": "code",
      "source": [
        "dataset[\"Language\"].value_counts()"
      ],
      "metadata": {
        "colab": {
          "base_uri": "https://localhost:8080/"
        },
        "id": "Vc09u3ms8OrO",
        "outputId": "31dbef49-282e-4e33-b01e-9f97d12fc041"
      },
      "execution_count": 7,
      "outputs": [
        {
          "output_type": "execute_result",
          "data": {
            "text/plain": [
              "English       1385\n",
              "French        1014\n",
              "Spanish        819\n",
              "Portugeese     739\n",
              "Italian        698\n",
              "Russian        692\n",
              "Sweedish       676\n",
              "Malayalam      594\n",
              "Dutch          546\n",
              "Arabic         536\n",
              "Turkish        474\n",
              "German         470\n",
              "Tamil          469\n",
              "Danish         428\n",
              "Kannada        369\n",
              "Greek          365\n",
              "Hindi           63\n",
              "Name: Language, dtype: int64"
            ]
          },
          "metadata": {},
          "execution_count": 7
        }
      ]
    },
    {
      "cell_type": "markdown",
      "source": [
        "# Text Preprocessing"
      ],
      "metadata": {
        "id": "uSjoEeWF080B"
      }
    },
    {
      "cell_type": "markdown",
      "source": [
        "**Text** **Cleaning**"
      ],
      "metadata": {
        "id": "BWVDBsS71MDc"
      }
    },
    {
      "cell_type": "code",
      "source": [
        "def Cleaner(text):\n",
        "  # удалим все цифры и иные символы, кроме букв и приведём текст к нижнему регистру\n",
        "  text = re.sub(r'[{}]'.format(string.punctuation), '', text)\n",
        "  text = re.sub(r'\\d+', '', text)\n",
        "  return text.lower()\n"
      ],
      "metadata": {
        "id": "5PE6gpgv1VFK"
      },
      "execution_count": 8,
      "outputs": []
    },
    {
      "cell_type": "markdown",
      "source": [
        "Может быть такое, что в нашем $dataset$ в каком-то предложении помимо основного языка, на котором оно написано есть и другие языки, например английский или русский, поэтому напишем функции, которые будут удалять эти побочные языки из предложения.\n",
        "\n",
        "Понятно, что вариантов очень много, но кажется, что основным является английский, так как есть куча аббревиатур или каких-то названий, которые невозмомножно перевести на другой язык, поэтому их оставляют на английском.\n",
        "\n",
        "Так что я считаю, что достаточно написать функцию, удаляющую английские символы."
      ],
      "metadata": {
        "id": "5dY6Am-jFPRb"
      }
    },
    {
      "cell_type": "code",
      "source": [
        "def RemoveEnglish(text):\n",
        "        text = re.sub(r'[a-zA-Z]+', '', text)\n",
        "        return text.lower()"
      ],
      "metadata": {
        "id": "6yPwzNhbFF1y"
      },
      "execution_count": 9,
      "outputs": []
    },
    {
      "cell_type": "code",
      "source": [
        "# функция, которая применяет к предложению функцию RemoveEnglish\n",
        "def ApplyToSentence(sentence):\n",
        "  if (sentence.Language != 'English'):\n",
        "    sentence.Text = RemoveEnglish(sentence.Text)\n",
        "  return sentence.Text"
      ],
      "metadata": {
        "id": "18F-xhuIMhC1"
      },
      "execution_count": 10,
      "outputs": []
    },
    {
      "cell_type": "code",
      "source": [
        "data = dataset.copy()\n",
        "X = data.apply(ApplyToSentence, axis = 1) #axis = 1, так как применять функцию надо к столбцу\n",
        "X = X.apply(Cleaner) # применяем Cleaner к столбцу с предложениями\n",
        "\n",
        "y = data[\"Language\"]\n",
        "\n"
      ],
      "metadata": {
        "id": "FQR3b9sOOWuI"
      },
      "execution_count": 11,
      "outputs": []
    },
    {
      "cell_type": "markdown",
      "source": [
        "Посмотрим, что получилось:"
      ],
      "metadata": {
        "id": "aWe57YMSVbh1"
      }
    },
    {
      "cell_type": "code",
      "source": [
        "X"
      ],
      "metadata": {
        "colab": {
          "base_uri": "https://localhost:8080/"
        },
        "id": "ELTxXMq5VtvP",
        "outputId": "ce7d1e3f-6601-429e-be70-00132fb942cc"
      },
      "execution_count": 12,
      "outputs": [
        {
          "output_type": "execute_result",
          "data": {
            "text/plain": [
              "0         nature in the broadest sense is the natural p...\n",
              "1        nature can refer to the phenomena of the physi...\n",
              "2        the study of nature is a large if not the only...\n",
              "3        although humans are part of nature human activ...\n",
              "4         the word nature is borrowed from the old fren...\n",
              "                               ...                        \n",
              "10332    ನಿಮ್ಮ ತಪ್ಪು ಏನು ಬಂದಿದೆಯೆಂದರೆ ಆ ದಿನದಿಂದ ನಿಮಗೆ ಒ...\n",
              "10333    ನಾರ್ಸಿಸಾ ತಾನು ಮೊದಲಿಗೆ ಹೆಣಗಾಡುತ್ತಿದ್ದ ಮಾರ್ಗಗಳನ್...\n",
              "10334    ಹೇಗೆ  ನಾರ್ಸಿಸಿಸಮ್ ಈಗ ಮರಿಯನ್ ಅವರಿಗೆ ಸಂಭವಿಸಿದ ಎಲ...\n",
              "10335    ಅವಳು ಈಗ ಹೆಚ್ಚು ಚಿನ್ನದ ಬ್ರೆಡ್ ಬಯಸುವುದಿಲ್ಲ ಎಂದು ...\n",
              "10336    ಟೆರ್ರಿ ನೀವು ನಿಜವಾಗಿಯೂ ಆ ದೇವದೂತನಂತೆ ಸ್ವಲ್ಪ ಕಾಣು...\n",
              "Length: 10337, dtype: object"
            ]
          },
          "metadata": {},
          "execution_count": 12
        }
      ]
    },
    {
      "cell_type": "code",
      "source": [
        "y"
      ],
      "metadata": {
        "colab": {
          "base_uri": "https://localhost:8080/"
        },
        "id": "SFOwUwZKVwcy",
        "outputId": "807ad009-f1ad-47b9-80ce-e0fd621de531"
      },
      "execution_count": 13,
      "outputs": [
        {
          "output_type": "execute_result",
          "data": {
            "text/plain": [
              "0        English\n",
              "1        English\n",
              "2        English\n",
              "3        English\n",
              "4        English\n",
              "          ...   \n",
              "10332    Kannada\n",
              "10333    Kannada\n",
              "10334    Kannada\n",
              "10335    Kannada\n",
              "10336    Kannada\n",
              "Name: Language, Length: 10337, dtype: object"
            ]
          },
          "metadata": {},
          "execution_count": 13
        }
      ]
    },
    {
      "cell_type": "markdown",
      "source": [
        "# Выбор модели"
      ],
      "metadata": {
        "id": "n2xmSSds7Rlm"
      }
    },
    {
      "cell_type": "markdown",
      "source": [
        "Первая модель - **Bag of Words** + ***MultinomialNB*** из наивных байесовских моделей c минимальной предобработкой текста"
      ],
      "metadata": {
        "id": "Je1UVY2mAQEC"
      }
    },
    {
      "cell_type": "code",
      "source": [
        "x=np.array(dataset[\"Text\"])\n",
        "y=np.array(dataset[\"Language\"])\n",
        "\n",
        "d={}\n",
        "i=0\n",
        "for word in pd.unique(y):\n",
        "    d[word]=i\n",
        "    i+=1"
      ],
      "metadata": {
        "id": "K7Rh92SmICel"
      },
      "execution_count": 14,
      "outputs": []
    },
    {
      "cell_type": "code",
      "source": [
        "# Bag of Words с помощью CountVectorizer\n",
        "cv=CountVectorizer()\n",
        "x=cv.fit_transform(x)"
      ],
      "metadata": {
        "id": "aCrdUKIwIMWm"
      },
      "execution_count": 15,
      "outputs": []
    },
    {
      "cell_type": "code",
      "source": [
        "# Выборки\n",
        "x_train,x_test,y_train,y_test=train_test_split(x,y,test_size=.2,random_state=42)"
      ],
      "metadata": {
        "id": "t7F3K-AaIqhW"
      },
      "execution_count": 16,
      "outputs": []
    },
    {
      "cell_type": "code",
      "source": [
        "model = MultinomialNB()\n",
        "model.fit(x_train, y_train)"
      ],
      "metadata": {
        "colab": {
          "base_uri": "https://localhost:8080/",
          "height": 74
        },
        "id": "YUSPZXO-2Zax",
        "outputId": "1a885c7a-057a-4eee-bc4b-beabb62b6093"
      },
      "execution_count": 17,
      "outputs": [
        {
          "output_type": "execute_result",
          "data": {
            "text/plain": [
              "MultinomialNB()"
            ],
            "text/html": [
              "<style>#sk-container-id-1 {color: black;background-color: white;}#sk-container-id-1 pre{padding: 0;}#sk-container-id-1 div.sk-toggleable {background-color: white;}#sk-container-id-1 label.sk-toggleable__label {cursor: pointer;display: block;width: 100%;margin-bottom: 0;padding: 0.3em;box-sizing: border-box;text-align: center;}#sk-container-id-1 label.sk-toggleable__label-arrow:before {content: \"▸\";float: left;margin-right: 0.25em;color: #696969;}#sk-container-id-1 label.sk-toggleable__label-arrow:hover:before {color: black;}#sk-container-id-1 div.sk-estimator:hover label.sk-toggleable__label-arrow:before {color: black;}#sk-container-id-1 div.sk-toggleable__content {max-height: 0;max-width: 0;overflow: hidden;text-align: left;background-color: #f0f8ff;}#sk-container-id-1 div.sk-toggleable__content pre {margin: 0.2em;color: black;border-radius: 0.25em;background-color: #f0f8ff;}#sk-container-id-1 input.sk-toggleable__control:checked~div.sk-toggleable__content {max-height: 200px;max-width: 100%;overflow: auto;}#sk-container-id-1 input.sk-toggleable__control:checked~label.sk-toggleable__label-arrow:before {content: \"▾\";}#sk-container-id-1 div.sk-estimator input.sk-toggleable__control:checked~label.sk-toggleable__label {background-color: #d4ebff;}#sk-container-id-1 div.sk-label input.sk-toggleable__control:checked~label.sk-toggleable__label {background-color: #d4ebff;}#sk-container-id-1 input.sk-hidden--visually {border: 0;clip: rect(1px 1px 1px 1px);clip: rect(1px, 1px, 1px, 1px);height: 1px;margin: -1px;overflow: hidden;padding: 0;position: absolute;width: 1px;}#sk-container-id-1 div.sk-estimator {font-family: monospace;background-color: #f0f8ff;border: 1px dotted black;border-radius: 0.25em;box-sizing: border-box;margin-bottom: 0.5em;}#sk-container-id-1 div.sk-estimator:hover {background-color: #d4ebff;}#sk-container-id-1 div.sk-parallel-item::after {content: \"\";width: 100%;border-bottom: 1px solid gray;flex-grow: 1;}#sk-container-id-1 div.sk-label:hover label.sk-toggleable__label {background-color: #d4ebff;}#sk-container-id-1 div.sk-serial::before {content: \"\";position: absolute;border-left: 1px solid gray;box-sizing: border-box;top: 0;bottom: 0;left: 50%;z-index: 0;}#sk-container-id-1 div.sk-serial {display: flex;flex-direction: column;align-items: center;background-color: white;padding-right: 0.2em;padding-left: 0.2em;position: relative;}#sk-container-id-1 div.sk-item {position: relative;z-index: 1;}#sk-container-id-1 div.sk-parallel {display: flex;align-items: stretch;justify-content: center;background-color: white;position: relative;}#sk-container-id-1 div.sk-item::before, #sk-container-id-1 div.sk-parallel-item::before {content: \"\";position: absolute;border-left: 1px solid gray;box-sizing: border-box;top: 0;bottom: 0;left: 50%;z-index: -1;}#sk-container-id-1 div.sk-parallel-item {display: flex;flex-direction: column;z-index: 1;position: relative;background-color: white;}#sk-container-id-1 div.sk-parallel-item:first-child::after {align-self: flex-end;width: 50%;}#sk-container-id-1 div.sk-parallel-item:last-child::after {align-self: flex-start;width: 50%;}#sk-container-id-1 div.sk-parallel-item:only-child::after {width: 0;}#sk-container-id-1 div.sk-dashed-wrapped {border: 1px dashed gray;margin: 0 0.4em 0.5em 0.4em;box-sizing: border-box;padding-bottom: 0.4em;background-color: white;}#sk-container-id-1 div.sk-label label {font-family: monospace;font-weight: bold;display: inline-block;line-height: 1.2em;}#sk-container-id-1 div.sk-label-container {text-align: center;}#sk-container-id-1 div.sk-container {/* jupyter's `normalize.less` sets `[hidden] { display: none; }` but bootstrap.min.css set `[hidden] { display: none !important; }` so we also need the `!important` here to be able to override the default hidden behavior on the sphinx rendered scikit-learn.org. See: https://github.com/scikit-learn/scikit-learn/issues/21755 */display: inline-block !important;position: relative;}#sk-container-id-1 div.sk-text-repr-fallback {display: none;}</style><div id=\"sk-container-id-1\" class=\"sk-top-container\"><div class=\"sk-text-repr-fallback\"><pre>MultinomialNB()</pre><b>In a Jupyter environment, please rerun this cell to show the HTML representation or trust the notebook. <br />On GitHub, the HTML representation is unable to render, please try loading this page with nbviewer.org.</b></div><div class=\"sk-container\" hidden><div class=\"sk-item\"><div class=\"sk-estimator sk-toggleable\"><input class=\"sk-toggleable__control sk-hidden--visually\" id=\"sk-estimator-id-1\" type=\"checkbox\" checked><label for=\"sk-estimator-id-1\" class=\"sk-toggleable__label sk-toggleable__label-arrow\">MultinomialNB</label><div class=\"sk-toggleable__content\"><pre>MultinomialNB()</pre></div></div></div></div></div>"
            ]
          },
          "metadata": {},
          "execution_count": 17
        }
      ]
    },
    {
      "cell_type": "code",
      "source": [
        "y_pred = model.predict(x_test) # делаем предугадывание"
      ],
      "metadata": {
        "id": "-7O0FOAw4d1V"
      },
      "execution_count": 18,
      "outputs": []
    },
    {
      "cell_type": "code",
      "source": [
        "ac1 = accuracy_score(y_test,y_pred)\n",
        "cr1 = classification_report(y_test, y_pred)"
      ],
      "metadata": {
        "id": "ooAmyHDpxK4V"
      },
      "execution_count": 19,
      "outputs": []
    },
    {
      "cell_type": "code",
      "source": [
        "print(\"Accuracy is \", ac1)"
      ],
      "metadata": {
        "colab": {
          "base_uri": "https://localhost:8080/"
        },
        "id": "BwNgY0w3NXbM",
        "outputId": "8d633180-5268-4309-b676-d98f58a52e8a"
      },
      "execution_count": 20,
      "outputs": [
        {
          "output_type": "stream",
          "name": "stdout",
          "text": [
            "Accuracy is  0.9825918762088974\n"
          ]
        }
      ]
    },
    {
      "cell_type": "code",
      "source": [
        "print(cr1)"
      ],
      "metadata": {
        "colab": {
          "base_uri": "https://localhost:8080/"
        },
        "id": "NHs8yN8NQ55Z",
        "outputId": "973c5a51-05b4-4cbb-8f11-ce13205550d0"
      },
      "execution_count": 21,
      "outputs": [
        {
          "output_type": "stream",
          "name": "stdout",
          "text": [
            "              precision    recall  f1-score   support\n",
            "\n",
            "      Arabic       1.00      0.98      0.99       106\n",
            "      Danish       0.97      0.96      0.97        73\n",
            "       Dutch       0.98      0.97      0.98       111\n",
            "     English       0.92      1.00      0.96       291\n",
            "      French       0.99      0.99      0.99       219\n",
            "      German       1.00      0.97      0.98        93\n",
            "       Greek       1.00      0.99      0.99        68\n",
            "       Hindi       1.00      1.00      1.00        10\n",
            "     Italian       1.00      0.99      1.00       145\n",
            "     Kannada       1.00      1.00      1.00        66\n",
            "   Malayalam       1.00      0.98      0.99       121\n",
            "  Portugeese       0.99      0.98      0.99       144\n",
            "     Russian       1.00      0.99      1.00       136\n",
            "     Spanish       0.99      0.97      0.98       160\n",
            "    Sweedish       1.00      0.98      0.99       133\n",
            "       Tamil       1.00      0.99      0.99        87\n",
            "     Turkish       1.00      0.93      0.97       105\n",
            "\n",
            "    accuracy                           0.98      2068\n",
            "   macro avg       0.99      0.98      0.99      2068\n",
            "weighted avg       0.98      0.98      0.98      2068\n",
            "\n"
          ]
        }
      ]
    },
    {
      "cell_type": "markdown",
      "source": [
        "**Анализ ошибок**"
      ],
      "metadata": {
        "id": "ITEykdBzdov_"
      }
    },
    {
      "cell_type": "markdown",
      "source": [
        "Как можем заметить по cr1, у нас модель обучилась практически идеально и если и есть ошибки, то это в основном на English.\n",
        "\n",
        "Связано это может быть с тем, что в других предложениях встречаются несколько английских слов (аббревиатуры и тд) и это снижает точность определения английского языка. То есть скорее всего есть такие предложения, написанные на латинских языках, по типу Dutch, French, Portoguese и др, что наша нейросеть путает их с английским или наоборот.\n",
        "\n",
        "Найти пример не из тестовой выборки будет довольно трудно, а в тестовой выборке можно поискать."
      ],
      "metadata": {
        "id": "tfqnafKqdsBx"
      }
    },
    {
      "cell_type": "markdown",
      "source": [
        "На самом деле лучше всего понять где наша нейросеть ошибается можно на Confusion Matrix, поэтому давайте её построим"
      ],
      "metadata": {
        "id": "3IiQqe_vj0vv"
      }
    },
    {
      "cell_type": "code",
      "source": [
        "cm1 = confusion_matrix(y_test, y_pred)"
      ],
      "metadata": {
        "id": "GuNHAxtSifVg"
      },
      "execution_count": 22,
      "outputs": []
    },
    {
      "cell_type": "code",
      "source": [
        "plt.figure(figsize=(15,15))\n",
        "ax= plt.subplot()\n",
        "sns.heatmap(cm1, annot=True, fmt='g', ax=ax,cbar=False,cmap='RdBu')\n",
        "ax.set_xlabel('Predicted labels')\n",
        "ax.set_ylabel('True labels')\n",
        "ax.set_title('Confusion Matrix')\n",
        "ax.xaxis.set_ticklabels(d.keys())\n",
        "ax.yaxis.set_ticklabels(d.keys())"
      ],
      "metadata": {
        "colab": {
          "base_uri": "https://localhost:8080/",
          "height": 1000
        },
        "id": "GgV5jmRukcJ_",
        "outputId": "df132853-29ba-42b7-d546-fd0a84dc2f1d"
      },
      "execution_count": 23,
      "outputs": [
        {
          "output_type": "execute_result",
          "data": {
            "text/plain": [
              "[Text(0, 0.5, 'English'),\n",
              " Text(0, 1.5, 'Malayalam'),\n",
              " Text(0, 2.5, 'Hindi'),\n",
              " Text(0, 3.5, 'Tamil'),\n",
              " Text(0, 4.5, 'Portugeese'),\n",
              " Text(0, 5.5, 'French'),\n",
              " Text(0, 6.5, 'Dutch'),\n",
              " Text(0, 7.5, 'Spanish'),\n",
              " Text(0, 8.5, 'Greek'),\n",
              " Text(0, 9.5, 'Russian'),\n",
              " Text(0, 10.5, 'Danish'),\n",
              " Text(0, 11.5, 'Italian'),\n",
              " Text(0, 12.5, 'Turkish'),\n",
              " Text(0, 13.5, 'Sweedish'),\n",
              " Text(0, 14.5, 'Arabic'),\n",
              " Text(0, 15.5, 'German'),\n",
              " Text(0, 16.5, 'Kannada')]"
            ]
          },
          "metadata": {},
          "execution_count": 23
        },
        {
          "output_type": "display_data",
          "data": {
            "text/plain": [
              "<Figure size 1500x1500 with 1 Axes>"
            ],
            "image/png": "[encoded data removed]"
          },
          "metadata": {}
        }
      ]
    },
    {
      "cell_type": "markdown",
      "source": [
        "Вторая модель - это ***TF-IDF + LogisticRegression***"
      ],
      "metadata": {
        "id": "0kpYCIUIBBAK"
      }
    },
    {
      "cell_type": "code",
      "source": [
        "# Подправим немного тестовую и тренировочную выборки\n",
        "x_train, x_test, y_train, y_test = train_test_split(X,y, random_state=42)"
      ],
      "metadata": {
        "id": "N3IlMNgkBv9b"
      },
      "execution_count": 24,
      "outputs": []
    },
    {
      "cell_type": "code",
      "source": [
        "# Воспользуемся TF-IDF метрикой\n",
        "vectorizer = TfidfVectorizer(ngram_range=(1,3), analyzer='char')"
      ],
      "metadata": {
        "id": "19xC2qQuCqOu"
      },
      "execution_count": 25,
      "outputs": []
    },
    {
      "cell_type": "code",
      "source": [
        "# используем pipeline, так как она позволяем последовательно применить несколько transforms, чтобы получить в итоге один final estimator\n",
        "model = pipeline.Pipeline([\n",
        "    ('vectorizer', vectorizer),\n",
        "    ('clf', LogisticRegression())\n",
        "])"
      ],
      "metadata": {
        "id": "LtZfyrWeCzrT"
      },
      "execution_count": 26,
      "outputs": []
    },
    {
      "cell_type": "code",
      "source": [
        "# обучаем модель\n",
        "model.fit(x_train,y_train)"
      ],
      "metadata": {
        "colab": {
          "base_uri": "https://localhost:8080/",
          "height": 273
        },
        "id": "RZef-BAdDRw8",
        "outputId": "e39bffb2-296a-45b6-b48a-3eed79e30270"
      },
      "execution_count": 27,
      "outputs": [
        {
          "output_type": "stream",
          "name": "stderr",
          "text": [
            "/usr/local/lib/python3.10/dist-packages/sklearn/linear_model/_logistic.py:458: ConvergenceWarning: lbfgs failed to converge (status=1):\n",
            "STOP: TOTAL NO. of ITERATIONS REACHED LIMIT.\n",
            "\n",
            "Increase the number of iterations (max_iter) or scale the data as shown in:\n",
            "    https://scikit-learn.org/stable/modules/preprocessing.html\n",
            "Please also refer to the documentation for alternative solver options:\n",
            "    https://scikit-learn.org/stable/modules/linear_model.html#logistic-regression\n",
            "  n_iter_i = _check_optimize_result(\n"
          ]
        },
        {
          "output_type": "execute_result",
          "data": {
            "text/plain": [
              "Pipeline(steps=[('vectorizer',\n",
              "                 TfidfVectorizer(analyzer='char', ngram_range=(1, 3))),\n",
              "                ('clf', LogisticRegression())])"
            ],
            "text/html": [
              "<style>#sk-container-id-2 {color: black;background-color: white;}#sk-container-id-2 pre{padding: 0;}#sk-container-id-2 div.sk-toggleable {background-color: white;}#sk-container-id-2 label.sk-toggleable__label {cursor: pointer;display: block;width: 100%;margin-bottom: 0;padding: 0.3em;box-sizing: border-box;text-align: center;}#sk-container-id-2 label.sk-toggleable__label-arrow:before {content: \"▸\";float: left;margin-right: 0.25em;color: #696969;}#sk-container-id-2 label.sk-toggleable__label-arrow:hover:before {color: black;}#sk-container-id-2 div.sk-estimator:hover label.sk-toggleable__label-arrow:before {color: black;}#sk-container-id-2 div.sk-toggleable__content {max-height: 0;max-width: 0;overflow: hidden;text-align: left;background-color: #f0f8ff;}#sk-container-id-2 div.sk-toggleable__content pre {margin: 0.2em;color: black;border-radius: 0.25em;background-color: #f0f8ff;}#sk-container-id-2 input.sk-toggleable__control:checked~div.sk-toggleable__content {max-height: 200px;max-width: 100%;overflow: auto;}#sk-container-id-2 input.sk-toggleable__control:checked~label.sk-toggleable__label-arrow:before {content: \"▾\";}#sk-container-id-2 div.sk-estimator input.sk-toggleable__control:checked~label.sk-toggleable__label {background-color: #d4ebff;}#sk-container-id-2 div.sk-label input.sk-toggleable__control:checked~label.sk-toggleable__label {background-color: #d4ebff;}#sk-container-id-2 input.sk-hidden--visually {border: 0;clip: rect(1px 1px 1px 1px);clip: rect(1px, 1px, 1px, 1px);height: 1px;margin: -1px;overflow: hidden;padding: 0;position: absolute;width: 1px;}#sk-container-id-2 div.sk-estimator {font-family: monospace;background-color: #f0f8ff;border: 1px dotted black;border-radius: 0.25em;box-sizing: border-box;margin-bottom: 0.5em;}#sk-container-id-2 div.sk-estimator:hover {background-color: #d4ebff;}#sk-container-id-2 div.sk-parallel-item::after {content: \"\";width: 100%;border-bottom: 1px solid gray;flex-grow: 1;}#sk-container-id-2 div.sk-label:hover label.sk-toggleable__label {background-color: #d4ebff;}#sk-container-id-2 div.sk-serial::before {content: \"\";position: absolute;border-left: 1px solid gray;box-sizing: border-box;top: 0;bottom: 0;left: 50%;z-index: 0;}#sk-container-id-2 div.sk-serial {display: flex;flex-direction: column;align-items: center;background-color: white;padding-right: 0.2em;padding-left: 0.2em;position: relative;}#sk-container-id-2 div.sk-item {position: relative;z-index: 1;}#sk-container-id-2 div.sk-parallel {display: flex;align-items: stretch;justify-content: center;background-color: white;position: relative;}#sk-container-id-2 div.sk-item::before, #sk-container-id-2 div.sk-parallel-item::before {content: \"\";position: absolute;border-left: 1px solid gray;box-sizing: border-box;top: 0;bottom: 0;left: 50%;z-index: -1;}#sk-container-id-2 div.sk-parallel-item {display: flex;flex-direction: column;z-index: 1;position: relative;background-color: white;}#sk-container-id-2 div.sk-parallel-item:first-child::after {align-self: flex-end;width: 50%;}#sk-container-id-2 div.sk-parallel-item:last-child::after {align-self: flex-start;width: 50%;}#sk-container-id-2 div.sk-parallel-item:only-child::after {width: 0;}#sk-container-id-2 div.sk-dashed-wrapped {border: 1px dashed gray;margin: 0 0.4em 0.5em 0.4em;box-sizing: border-box;padding-bottom: 0.4em;background-color: white;}#sk-container-id-2 div.sk-label label {font-family: monospace;font-weight: bold;display: inline-block;line-height: 1.2em;}#sk-container-id-2 div.sk-label-container {text-align: center;}#sk-container-id-2 div.sk-container {/* jupyter's `normalize.less` sets `[hidden] { display: none; }` but bootstrap.min.css set `[hidden] { display: none !important; }` so we also need the `!important` here to be able to override the default hidden behavior on the sphinx rendered scikit-learn.org. See: https://github.com/scikit-learn/scikit-learn/issues/21755 */display: inline-block !important;position: relative;}#sk-container-id-2 div.sk-text-repr-fallback {display: none;}</style><div id=\"sk-container-id-2\" class=\"sk-top-container\"><div class=\"sk-text-repr-fallback\"><pre>Pipeline(steps=[(&#x27;vectorizer&#x27;,\n",
              "                 TfidfVectorizer(analyzer=&#x27;char&#x27;, ngram_range=(1, 3))),\n",
              "                (&#x27;clf&#x27;, LogisticRegression())])</pre><b>In a Jupyter environment, please rerun this cell to show the HTML representation or trust the notebook. <br />On GitHub, the HTML representation is unable to render, please try loading this page with nbviewer.org.</b></div><div class=\"sk-container\" hidden><div class=\"sk-item sk-dashed-wrapped\"><div class=\"sk-label-container\"><div class=\"sk-label sk-toggleable\"><input class=\"sk-toggleable__control sk-hidden--visually\" id=\"sk-estimator-id-2\" type=\"checkbox\" ><label for=\"sk-estimator-id-2\" class=\"sk-toggleable__label sk-toggleable__label-arrow\">Pipeline</label><div class=\"sk-toggleable__content\"><pre>Pipeline(steps=[(&#x27;vectorizer&#x27;,\n",
              "                 TfidfVectorizer(analyzer=&#x27;char&#x27;, ngram_range=(1, 3))),\n",
              "                (&#x27;clf&#x27;, LogisticRegression())])</pre></div></div></div><div class=\"sk-serial\"><div class=\"sk-item\"><div class=\"sk-estimator sk-toggleable\"><input class=\"sk-toggleable__control sk-hidden--visually\" id=\"sk-estimator-id-3\" type=\"checkbox\" ><label for=\"sk-estimator-id-3\" class=\"sk-toggleable__label sk-toggleable__label-arrow\">TfidfVectorizer</label><div class=\"sk-toggleable__content\"><pre>TfidfVectorizer(analyzer=&#x27;char&#x27;, ngram_range=(1, 3))</pre></div></div></div><div class=\"sk-item\"><div class=\"sk-estimator sk-toggleable\"><input class=\"sk-toggleable__control sk-hidden--visually\" id=\"sk-estimator-id-4\" type=\"checkbox\" ><label for=\"sk-estimator-id-4\" class=\"sk-toggleable__label sk-toggleable__label-arrow\">LogisticRegression</label><div class=\"sk-toggleable__content\"><pre>LogisticRegression()</pre></div></div></div></div></div></div></div>"
            ]
          },
          "metadata": {},
          "execution_count": 27
        }
      ]
    },
    {
      "cell_type": "code",
      "source": [
        "# предсказываем\n",
        "y_pred = model.predict(x_test)"
      ],
      "metadata": {
        "id": "rTVDu13CDVbE"
      },
      "execution_count": 28,
      "outputs": []
    },
    {
      "cell_type": "code",
      "source": [
        "ac2 = accuracy_score(y_test, y_pred)\n",
        "cr2 = classification_report(y_test, y_pred)"
      ],
      "metadata": {
        "id": "sQ-4a23FOKJl"
      },
      "execution_count": 29,
      "outputs": []
    },
    {
      "cell_type": "code",
      "source": [
        "print(\"Accuracy is \", ac2)"
      ],
      "metadata": {
        "colab": {
          "base_uri": "https://localhost:8080/"
        },
        "id": "FCpCHrSfOHn9",
        "outputId": "1a634bd3-eaa7-48d6-bbd6-a14e6c19ee89"
      },
      "execution_count": 30,
      "outputs": [
        {
          "output_type": "stream",
          "name": "stdout",
          "text": [
            "Accuracy is  0.8499032882011606\n"
          ]
        }
      ]
    },
    {
      "cell_type": "code",
      "source": [
        "print(cr2)"
      ],
      "metadata": {
        "colab": {
          "base_uri": "https://localhost:8080/"
        },
        "id": "abwCb1OPRAay",
        "outputId": "4f5d4389-325d-4ca5-9d77-d41ca043b0af"
      },
      "execution_count": 31,
      "outputs": [
        {
          "output_type": "stream",
          "name": "stdout",
          "text": [
            "              precision    recall  f1-score   support\n",
            "\n",
            "      Arabic       1.00      0.99      1.00       134\n",
            "      Danish       0.90      0.68      0.78        97\n",
            "       Dutch       0.32      0.96      0.48       139\n",
            "     English       1.00      1.00      1.00       364\n",
            "      French       0.88      0.79      0.83       269\n",
            "      German       0.81      0.41      0.54       116\n",
            "       Greek       1.00      1.00      1.00        86\n",
            "       Hindi       1.00      1.00      1.00        13\n",
            "     Italian       0.88      0.43      0.58       180\n",
            "     Kannada       1.00      1.00      1.00        78\n",
            "   Malayalam       1.00      1.00      1.00       158\n",
            "  Portugeese       0.96      0.77      0.85       170\n",
            "     Russian       1.00      1.00      1.00       171\n",
            "     Spanish       0.88      0.83      0.86       206\n",
            "    Sweedish       0.87      0.85      0.86       162\n",
            "       Tamil       1.00      1.00      1.00       114\n",
            "     Turkish       1.00      0.82      0.90       128\n",
            "\n",
            "    accuracy                           0.85      2585\n",
            "   macro avg       0.91      0.85      0.86      2585\n",
            "weighted avg       0.91      0.85      0.86      2585\n",
            "\n"
          ]
        }
      ]
    },
    {
      "cell_type": "markdown",
      "source": [
        "**Анализ ошибок**"
      ],
      "metadata": {
        "id": "p2g7UZpgNG5b"
      }
    },
    {
      "cell_type": "markdown",
      "source": [
        "Давайте посмотрим на Confusion Matrix в этом случае"
      ],
      "metadata": {
        "id": "ApgCQGf_NMIT"
      }
    },
    {
      "cell_type": "code",
      "source": [
        "cm2 = confusion_matrix(y_test, y_pred)"
      ],
      "metadata": {
        "id": "RSA6bLjuNS7p"
      },
      "execution_count": 32,
      "outputs": []
    },
    {
      "cell_type": "code",
      "source": [
        "plt.figure(figsize=(15,15))\n",
        "ax= plt.subplot()\n",
        "sns.heatmap(cm2, annot=True, fmt='g', ax=ax,cbar=False,cmap='RdBu')\n",
        "ax.set_xlabel('Predicted labels')\n",
        "ax.set_ylabel('True labels')\n",
        "ax.set_title('Confusion Matrix')\n",
        "ax.xaxis.set_ticklabels(d.keys())\n",
        "ax.yaxis.set_ticklabels(d.keys())"
      ],
      "metadata": {
        "colab": {
          "base_uri": "https://localhost:8080/",
          "height": 1000
        },
        "id": "o0SSM3NlrfxL",
        "outputId": "f631d8c3-0de6-4087-b9f0-667251e702de"
      },
      "execution_count": 33,
      "outputs": [
        {
          "output_type": "execute_result",
          "data": {
            "text/plain": [
              "[Text(0, 0.5, 'English'),\n",
              " Text(0, 1.5, 'Malayalam'),\n",
              " Text(0, 2.5, 'Hindi'),\n",
              " Text(0, 3.5, 'Tamil'),\n",
              " Text(0, 4.5, 'Portugeese'),\n",
              " Text(0, 5.5, 'French'),\n",
              " Text(0, 6.5, 'Dutch'),\n",
              " Text(0, 7.5, 'Spanish'),\n",
              " Text(0, 8.5, 'Greek'),\n",
              " Text(0, 9.5, 'Russian'),\n",
              " Text(0, 10.5, 'Danish'),\n",
              " Text(0, 11.5, 'Italian'),\n",
              " Text(0, 12.5, 'Turkish'),\n",
              " Text(0, 13.5, 'Sweedish'),\n",
              " Text(0, 14.5, 'Arabic'),\n",
              " Text(0, 15.5, 'German'),\n",
              " Text(0, 16.5, 'Kannada')]"
            ]
          },
          "metadata": {},
          "execution_count": 33
        },
        {
          "output_type": "display_data",
          "data": {
            "text/plain": [
              "<Figure size 1500x1500 with 1 Axes>"
            ],
            "image/png": "[encoded data removed]"
          },
          "metadata": {}
        }
      ]
    },
    {
      "cell_type": "markdown",
      "source": [
        "Тут мы наблюдаем совершенно другую картину и понятно, что путаница возникает из-за предобработки текста.\n",
        "\n",
        "\n",
        "Не могу до конца понять, почему так, но предобработка текста портит точность предсказаний и это факт."
      ],
      "metadata": {
        "id": "prqzOkpir7OW"
      }
    },
    {
      "cell_type": "markdown",
      "source": [
        "Третья модель - **keras-model** с алгоритмом **back propagation**."
      ],
      "metadata": {
        "id": "8YUiKuY0D1wa"
      }
    },
    {
      "cell_type": "markdown",
      "source": [
        "Эта модель будет самой умной из всех, что были до этого. Здесь уже действительно надо будет придумывать архитектуру нейросети именно с нуля, то есть думать насчет того, сколько скрытых слоёв будет и какими они будут.\n",
        "\n",
        "Мы так же будет пользоваться эпохами, чтобы улучшить качество нашей нейросети за счет алгоритма обратного распространения ошибки (back propagation)"
      ],
      "metadata": {
        "id": "OMxWiNSRPpIY"
      }
    },
    {
      "cell_type": "markdown",
      "source": [
        "## Архитектура"
      ],
      "metadata": {
        "id": "jCbsOIhhQfMB"
      }
    },
    {
      "cell_type": "markdown",
      "source": [
        "Ну тут я не стал долго думать, потому что задача, которую мы будем решать не настолько сложна, чтобы тратить на неё очень много слоёв. Думаю, что хватит и 4 последовательных слоёв. (так как они последовательные, то буду использовать Sequential model)\n",
        "\n",
        "Какими будут эти слои? Я решил попробовать сделать их полносвязными с прямым распространением, то есть обычный densely-connected NN layer.\n",
        "\n",
        "Помимо всего этого, применим сглаживание входных данных, чтбобы не париться с тем, что у нас входные данные могут не поместиться по размерности во входной слой. (вот картинка)"
      ],
      "metadata": {
        "id": "vu9PVgfRQk8Z"
      }
    },
    {
      "cell_type": "markdown",
      "source": [
        "![1_OAWmMNK9_UjcDi-RaOO1dw.webp](data:image/webp;base64,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)"
      ],
      "metadata": {
        "id": "HkSbWPAof13r"
      }
    },
    {
      "cell_type": "markdown",
      "source": [
        "**Функция активации нейрона**"
      ],
      "metadata": {
        "id": "xZRojvOPUWiY"
      }
    },
    {
      "cell_type": "markdown",
      "source": [
        "Тут самый простой вариант - это функция вида $f(x) = max(feature, 0)$.\n",
        "\n",
        "Благо такая функция уже вшита в tensorflow и называется tf.nn.relu."
      ],
      "metadata": {
        "id": "tSMmr6HoUd1B"
      }
    },
    {
      "cell_type": "markdown",
      "source": [
        "**Размерности слоёв**"
      ],
      "metadata": {
        "id": "8RLQccrWU4WS"
      }
    },
    {
      "cell_type": "markdown",
      "source": [
        "На этом моменте я должен был перебирать размерности слоёв, пока не получил бы лучшую оценку качества, но, к сожалению, я перебирал очень долго, чтобы указывать все мои попытки, поэтому приведу финальный вариант, к которому я пришел.\n",
        "\n",
        "\n",
        "Размерности слоёв:\n",
        "\n",
        "\n",
        "1.   512\n",
        "2.   256\n",
        "3. 128\n",
        "4. 17\n",
        "\n"
      ],
      "metadata": {
        "id": "ibHg8PHGU79C"
      }
    },
    {
      "cell_type": "markdown",
      "source": [
        "Итого имеем:"
      ],
      "metadata": {
        "id": "67-JsTrMcL2o"
      }
    },
    {
      "cell_type": "code",
      "source": [
        "model = tf.keras.models.Sequential([tf.keras.layers.Flatten(),\n",
        "                                    tf.keras.layers.Dense(512, activation=tf.nn.relu),\n",
        "                                    tf.keras.layers.Dense(256, activation=tf.nn.relu),\n",
        "                                    tf.keras.layers.Dense(128, activation=tf.nn.relu),\n",
        "                                    tf.keras.layers.Dense(17, activation=tf.nn.softmax)\n",
        "                                   ])"
      ],
      "metadata": {
        "id": "pG5QyBI7Tb8_"
      },
      "execution_count": 34,
      "outputs": []
    },
    {
      "cell_type": "markdown",
      "source": [
        "## Выборки"
      ],
      "metadata": {
        "id": "ck5Osc9Rrksg"
      }
    },
    {
      "cell_type": "markdown",
      "source": [
        "Тут воспользуемся метрикой $TF-IDF$"
      ],
      "metadata": {
        "id": "J778wpgbrolU"
      }
    },
    {
      "cell_type": "code",
      "source": [
        "tfid=TfidfVectorizer()\n",
        "PipelineModel = Pipeline([('tfid',tfid)])\n",
        "X1 = PipelineModel.fit_transform(dataset[\"Text\"])\n",
        "X1 = pd.DataFrame.sparse.from_spmatrix(X1)"
      ],
      "metadata": {
        "id": "WeLA2_6FrwK2"
      },
      "execution_count": 35,
      "outputs": []
    },
    {
      "cell_type": "code",
      "source": [
        "X1"
      ],
      "metadata": {
        "colab": {
          "base_uri": "https://localhost:8080/",
          "height": 423
        },
        "id": "1qid8h5msUYu",
        "outputId": "df69b881-1a4c-44f6-8ead-d32d6db143cd"
      },
      "execution_count": 36,
      "outputs": [
        {
          "output_type": "execute_result",
          "data": {
            "text/plain": [
              "       0      1      2      3      4      5      6      7      8      9      \\\n",
              "0        0.0    0.0    0.0    0.0    0.0    0.0    0.0    0.0    0.0    0.0   \n",
              "1        0.0    0.0    0.0    0.0    0.0    0.0    0.0    0.0    0.0    0.0   \n",
              "2        0.0    0.0    0.0    0.0    0.0    0.0    0.0    0.0    0.0    0.0   \n",
              "3        0.0    0.0    0.0    0.0    0.0    0.0    0.0    0.0    0.0    0.0   \n",
              "4        0.0    0.0    0.0    0.0    0.0    0.0    0.0    0.0    0.0    0.0   \n",
              "...      ...    ...    ...    ...    ...    ...    ...    ...    ...    ...   \n",
              "10332    0.0    0.0    0.0    0.0    0.0    0.0    0.0    0.0    0.0    0.0   \n",
              "10333    0.0    0.0    0.0    0.0    0.0    0.0    0.0    0.0    0.0    0.0   \n",
              "10334    0.0    0.0    0.0    0.0    0.0    0.0    0.0    0.0    0.0    0.0   \n",
              "10335    0.0    0.0    0.0    0.0    0.0    0.0    0.0    0.0    0.0    0.0   \n",
              "10336    0.0    0.0    0.0    0.0    0.0    0.0    0.0    0.0    0.0    0.0   \n",
              "\n",
              "       ...  39918  39919  39920  39921  39922  39923  39924  39925  39926  \\\n",
              "0      ...    0.0    0.0    0.0    0.0    0.0    0.0    0.0    0.0    0.0   \n",
              "1      ...    0.0    0.0    0.0    0.0    0.0    0.0    0.0    0.0    0.0   \n",
              "2      ...    0.0    0.0    0.0    0.0    0.0    0.0    0.0    0.0    0.0   \n",
              "3      ...    0.0    0.0    0.0    0.0    0.0    0.0    0.0    0.0    0.0   \n",
              "4      ...    0.0    0.0    0.0    0.0    0.0    0.0    0.0    0.0    0.0   \n",
              "...    ...    ...    ...    ...    ...    ...    ...    ...    ...    ...   \n",
              "10332  ...    0.0    0.0    0.0    0.0    0.0    0.0    0.0    0.0    0.0   \n",
              "10333  ...    0.0    0.0    0.0    0.0    0.0    0.0    0.0    0.0    0.0   \n",
              "10334  ...    0.0    0.0    0.0    0.0    0.0    0.0    0.0    0.0    0.0   \n",
              "10335  ...    0.0    0.0    0.0    0.0    0.0    0.0    0.0    0.0    0.0   \n",
              "10336  ...    0.0    0.0    0.0    0.0    0.0    0.0    0.0    0.0    0.0   \n",
              "\n",
              "       39927  \n",
              "0        0.0  \n",
              "1        0.0  \n",
              "2        0.0  \n",
              "3        0.0  \n",
              "4        0.0  \n",
              "...      ...  \n",
              "10332    0.0  \n",
              "10333    0.0  \n",
              "10334    0.0  \n",
              "10335    0.0  \n",
              "10336    0.0  \n",
              "\n",
              "[10337 rows x 39928 columns]"
            ],
            "text/html": [
              "\n",
              "\n",
              "  <div id=\"df-79d60186-da5d-436d-9e7b-64c3fe0faec2\">\n",
              "    <div class=\"colab-df-container\">\n",
              "      <div>\n",
              "<style scoped>\n",
              "    .dataframe tbody tr th:only-of-type {\n",
              "        vertical-align: middle;\n",
              "    }\n",
              "\n",
              "    .dataframe tbody tr th {\n",
              "        vertical-align: top;\n",
              "    }\n",
              "\n",
              "    .dataframe thead th {\n",
              "        text-align: right;\n",
              "    }\n",
              "</style>\n",
              "<table border=\"1\" class=\"dataframe\">\n",
              "  <thead>\n",
              "    <tr style=\"text-align: right;\">\n",
              "      <th></th>\n",
              "      <th>0</th>\n",
              "      <th>1</th>\n",
              "      <th>2</th>\n",
              "      <th>3</th>\n",
              "      <th>4</th>\n",
              "      <th>5</th>\n",
              "      <th>6</th>\n",
              "      <th>7</th>\n",
              "      <th>8</th>\n",
              "      <th>9</th>\n",
              "      <th>...</th>\n",
              "      <th>39918</th>\n",
              "      <th>39919</th>\n",
              "      <th>39920</th>\n",
              "      <th>39921</th>\n",
              "      <th>39922</th>\n",
              "      <th>39923</th>\n",
              "      <th>39924</th>\n",
              "      <th>39925</th>\n",
              "      <th>39926</th>\n",
              "      <th>39927</th>\n",
              "    </tr>\n",
              "  </thead>\n",
              "  <tbody>\n",
              "    <tr>\n",
              "      <th>0</th>\n",
              "      <td>0.0</td>\n",
              "      <td>0.0</td>\n",
              "      <td>0.0</td>\n",
              "      <td>0.0</td>\n",
              "      <td>0.0</td>\n",
              "      <td>0.0</td>\n",
              "      <td>0.0</td>\n",
              "      <td>0.0</td>\n",
              "      <td>0.0</td>\n",
              "      <td>0.0</td>\n",
              "      <td>...</td>\n",
              "      <td>0.0</td>\n",
              "      <td>0.0</td>\n",
              "      <td>0.0</td>\n",
              "      <td>0.0</td>\n",
              "      <td>0.0</td>\n",
              "      <td>0.0</td>\n",
              "      <td>0.0</td>\n",
              "      <td>0.0</td>\n",
              "      <td>0.0</td>\n",
              "      <td>0.0</td>\n",
              "    </tr>\n",
              "    <tr>\n",
              "      <th>1</th>\n",
              "      <td>0.0</td>\n",
              "      <td>0.0</td>\n",
              "      <td>0.0</td>\n",
              "      <td>0.0</td>\n",
              "      <td>0.0</td>\n",
              "      <td>0.0</td>\n",
              "      <td>0.0</td>\n",
              "      <td>0.0</td>\n",
              "      <td>0.0</td>\n",
              "      <td>0.0</td>\n",
              "      <td>...</td>\n",
              "      <td>0.0</td>\n",
              "      <td>0.0</td>\n",
              "      <td>0.0</td>\n",
              "      <td>0.0</td>\n",
              "      <td>0.0</td>\n",
              "      <td>0.0</td>\n",
              "      <td>0.0</td>\n",
              "      <td>0.0</td>\n",
              "      <td>0.0</td>\n",
              "      <td>0.0</td>\n",
              "    </tr>\n",
              "    <tr>\n",
              "      <th>2</th>\n",
              "      <td>0.0</td>\n",
              "      <td>0.0</td>\n",
              "      <td>0.0</td>\n",
              "      <td>0.0</td>\n",
              "      <td>0.0</td>\n",
              "      <td>0.0</td>\n",
              "      <td>0.0</td>\n",
              "      <td>0.0</td>\n",
              "      <td>0.0</td>\n",
              "      <td>0.0</td>\n",
              "      <td>...</td>\n",
              "      <td>0.0</td>\n",
              "      <td>0.0</td>\n",
              "      <td>0.0</td>\n",
              "      <td>0.0</td>\n",
              "      <td>0.0</td>\n",
              "      <td>0.0</td>\n",
              "      <td>0.0</td>\n",
              "      <td>0.0</td>\n",
              "      <td>0.0</td>\n",
              "      <td>0.0</td>\n",
              "    </tr>\n",
              "    <tr>\n",
              "      <th>3</th>\n",
              "      <td>0.0</td>\n",
              "      <td>0.0</td>\n",
              "      <td>0.0</td>\n",
              "      <td>0.0</td>\n",
              "      <td>0.0</td>\n",
              "      <td>0.0</td>\n",
              "      <td>0.0</td>\n",
              "      <td>0.0</td>\n",
              "      <td>0.0</td>\n",
              "      <td>0.0</td>\n",
              "      <td>...</td>\n",
              "      <td>0.0</td>\n",
              "      <td>0.0</td>\n",
              "      <td>0.0</td>\n",
              "      <td>0.0</td>\n",
              "      <td>0.0</td>\n",
              "      <td>0.0</td>\n",
              "      <td>0.0</td>\n",
              "      <td>0.0</td>\n",
              "      <td>0.0</td>\n",
              "      <td>0.0</td>\n",
              "    </tr>\n",
              "    <tr>\n",
              "      <th>4</th>\n",
              "      <td>0.0</td>\n",
              "      <td>0.0</td>\n",
              "      <td>0.0</td>\n",
              "      <td>0.0</td>\n",
              "      <td>0.0</td>\n",
              "      <td>0.0</td>\n",
              "      <td>0.0</td>\n",
              "      <td>0.0</td>\n",
              "      <td>0.0</td>\n",
              "      <td>0.0</td>\n",
              "      <td>...</td>\n",
              "      <td>0.0</td>\n",
              "      <td>0.0</td>\n",
              "      <td>0.0</td>\n",
              "      <td>0.0</td>\n",
              "      <td>0.0</td>\n",
              "      <td>0.0</td>\n",
              "      <td>0.0</td>\n",
              "      <td>0.0</td>\n",
              "      <td>0.0</td>\n",
              "      <td>0.0</td>\n",
              "    </tr>\n",
              "    <tr>\n",
              "      <th>...</th>\n",
              "      <td>...</td>\n",
              "      <td>...</td>\n",
              "      <td>...</td>\n",
              "      <td>...</td>\n",
              "      <td>...</td>\n",
              "      <td>...</td>\n",
              "      <td>...</td>\n",
              "      <td>...</td>\n",
              "      <td>...</td>\n",
              "      <td>...</td>\n",
              "      <td>...</td>\n",
              "      <td>...</td>\n",
              "      <td>...</td>\n",
              "      <td>...</td>\n",
              "      <td>...</td>\n",
              "      <td>...</td>\n",
              "      <td>...</td>\n",
              "      <td>...</td>\n",
              "      <td>...</td>\n",
              "      <td>...</td>\n",
              "      <td>...</td>\n",
              "    </tr>\n",
              "    <tr>\n",
              "      <th>10332</th>\n",
              "      <td>0.0</td>\n",
              "      <td>0.0</td>\n",
              "      <td>0.0</td>\n",
              "      <td>0.0</td>\n",
              "      <td>0.0</td>\n",
              "      <td>0.0</td>\n",
              "      <td>0.0</td>\n",
              "      <td>0.0</td>\n",
              "      <td>0.0</td>\n",
              "      <td>0.0</td>\n",
              "      <td>...</td>\n",
              "      <td>0.0</td>\n",
              "      <td>0.0</td>\n",
              "      <td>0.0</td>\n",
              "      <td>0.0</td>\n",
              "      <td>0.0</td>\n",
              "      <td>0.0</td>\n",
              "      <td>0.0</td>\n",
              "      <td>0.0</td>\n",
              "      <td>0.0</td>\n",
              "      <td>0.0</td>\n",
              "    </tr>\n",
              "    <tr>\n",
              "      <th>10333</th>\n",
              "      <td>0.0</td>\n",
              "      <td>0.0</td>\n",
              "      <td>0.0</td>\n",
              "      <td>0.0</td>\n",
              "      <td>0.0</td>\n",
              "      <td>0.0</td>\n",
              "      <td>0.0</td>\n",
              "      <td>0.0</td>\n",
              "      <td>0.0</td>\n",
              "      <td>0.0</td>\n",
              "      <td>...</td>\n",
              "      <td>0.0</td>\n",
              "      <td>0.0</td>\n",
              "      <td>0.0</td>\n",
              "      <td>0.0</td>\n",
              "      <td>0.0</td>\n",
              "      <td>0.0</td>\n",
              "      <td>0.0</td>\n",
              "      <td>0.0</td>\n",
              "      <td>0.0</td>\n",
              "      <td>0.0</td>\n",
              "    </tr>\n",
              "    <tr>\n",
              "      <th>10334</th>\n",
              "      <td>0.0</td>\n",
              "      <td>0.0</td>\n",
              "      <td>0.0</td>\n",
              "      <td>0.0</td>\n",
              "      <td>0.0</td>\n",
              "      <td>0.0</td>\n",
              "      <td>0.0</td>\n",
              "      <td>0.0</td>\n",
              "      <td>0.0</td>\n",
              "      <td>0.0</td>\n",
              "      <td>...</td>\n",
              "      <td>0.0</td>\n",
              "      <td>0.0</td>\n",
              "      <td>0.0</td>\n",
              "      <td>0.0</td>\n",
              "      <td>0.0</td>\n",
              "      <td>0.0</td>\n",
              "      <td>0.0</td>\n",
              "      <td>0.0</td>\n",
              "      <td>0.0</td>\n",
              "      <td>0.0</td>\n",
              "    </tr>\n",
              "    <tr>\n",
              "      <th>10335</th>\n",
              "      <td>0.0</td>\n",
              "      <td>0.0</td>\n",
              "      <td>0.0</td>\n",
              "      <td>0.0</td>\n",
              "      <td>0.0</td>\n",
              "      <td>0.0</td>\n",
              "      <td>0.0</td>\n",
              "      <td>0.0</td>\n",
              "      <td>0.0</td>\n",
              "      <td>0.0</td>\n",
              "      <td>...</td>\n",
              "      <td>0.0</td>\n",
              "      <td>0.0</td>\n",
              "      <td>0.0</td>\n",
              "      <td>0.0</td>\n",
              "      <td>0.0</td>\n",
              "      <td>0.0</td>\n",
              "      <td>0.0</td>\n",
              "      <td>0.0</td>\n",
              "      <td>0.0</td>\n",
              "      <td>0.0</td>\n",
              "    </tr>\n",
              "    <tr>\n",
              "      <th>10336</th>\n",
              "      <td>0.0</td>\n",
              "      <td>0.0</td>\n",
              "      <td>0.0</td>\n",
              "      <td>0.0</td>\n",
              "      <td>0.0</td>\n",
              "      <td>0.0</td>\n",
              "      <td>0.0</td>\n",
              "      <td>0.0</td>\n",
              "      <td>0.0</td>\n",
              "      <td>0.0</td>\n",
              "      <td>...</td>\n",
              "      <td>0.0</td>\n",
              "      <td>0.0</td>\n",
              "      <td>0.0</td>\n",
              "      <td>0.0</td>\n",
              "      <td>0.0</td>\n",
              "      <td>0.0</td>\n",
              "      <td>0.0</td>\n",
              "      <td>0.0</td>\n",
              "      <td>0.0</td>\n",
              "      <td>0.0</td>\n",
              "    </tr>\n",
              "  </tbody>\n",
              "</table>\n",
              "<p>10337 rows × 39928 columns</p>\n",
              "</div>\n",
              "      <button class=\"colab-df-convert\" onclick=\"convertToInteractive('df-79d60186-da5d-436d-9e7b-64c3fe0faec2')\"\n",
              "              title=\"Convert this dataframe to an interactive table.\"\n",
              "              style=\"display:none;\">\n",
              "\n",
              "  <svg xmlns=\"http://www.w3.org/2000/svg\" height=\"24px\"viewBox=\"0 0 24 24\"\n",
              "       width=\"24px\">\n",
              "    <path d=\"M0 0h24v24H0V0z\" fill=\"none\"/>\n",
              "    <path d=\"M18.56 5.44l.94 2.06.94-2.06 2.06-.94-2.06-.94-.94-2.06-.94 2.06-2.06.94zm-11 1L8.5 8.5l.94-2.06 2.06-.94-2.06-.94L8.5 2.5l-.94 2.06-2.06.94zm10 10l.94 2.06.94-2.06 2.06-.94-2.06-.94-.94-2.06-.94 2.06-2.06.94z\"/><path d=\"M17.41 7.96l-1.37-1.37c-.4-.4-.92-.59-1.43-.59-.52 0-1.04.2-1.43.59L10.3 9.45l-7.72 7.72c-.78.78-.78 2.05 0 2.83L4 21.41c.39.39.9.59 1.41.59.51 0 1.02-.2 1.41-.59l7.78-7.78 2.81-2.81c.8-.78.8-2.07 0-2.86zM5.41 20L4 18.59l7.72-7.72 1.47 1.35L5.41 20z\"/>\n",
              "  </svg>\n",
              "      </button>\n",
              "\n",
              "\n",
              "\n",
              "    <div id=\"df-661cad3d-8952-4095-8c24-a21d27439276\">\n",
              "      <button class=\"colab-df-quickchart\" onclick=\"quickchart('df-661cad3d-8952-4095-8c24-a21d27439276')\"\n",
              "              title=\"Suggest charts.\"\n",
              "              style=\"display:none;\">\n",
              "\n",
              "<svg xmlns=\"http://www.w3.org/2000/svg\" height=\"24px\"viewBox=\"0 0 24 24\"\n",
              "     width=\"24px\">\n",
              "    <g>\n",
              "        <path d=\"M19 3H5c-1.1 0-2 .9-2 2v14c0 1.1.9 2 2 2h14c1.1 0 2-.9 2-2V5c0-1.1-.9-2-2-2zM9 17H7v-7h2v7zm4 0h-2V7h2v10zm4 0h-2v-4h2v4z\"/>\n",
              "    </g>\n",
              "</svg>\n",
              "      </button>\n",
              "    </div>\n",
              "\n",
              "<style>\n",
              "  .colab-df-quickchart {\n",
              "    background-color: #E8F0FE;\n",
              "    border: none;\n",
              "    border-radius: 50%;\n",
              "    cursor: pointer;\n",
              "    display: none;\n",
              "    fill: #1967D2;\n",
              "    height: 32px;\n",
              "    padding: 0 0 0 0;\n",
              "    width: 32px;\n",
              "  }\n",
              "\n",
              "  .colab-df-quickchart:hover {\n",
              "    background-color: #E2EBFA;\n",
              "    box-shadow: 0px 1px 2px rgba(60, 64, 67, 0.3), 0px 1px 3px 1px rgba(60, 64, 67, 0.15);\n",
              "    fill: #174EA6;\n",
              "  }\n",
              "\n",
              "  [theme=dark] .colab-df-quickchart {\n",
              "    background-color: #3B4455;\n",
              "    fill: #D2E3FC;\n",
              "  }\n",
              "\n",
              "  [theme=dark] .colab-df-quickchart:hover {\n",
              "    background-color: #434B5C;\n",
              "    box-shadow: 0px 1px 3px 1px rgba(0, 0, 0, 0.15);\n",
              "    filter: drop-shadow(0px 1px 2px rgba(0, 0, 0, 0.3));\n",
              "    fill: #FFFFFF;\n",
              "  }\n",
              "</style>\n",
              "\n",
              "    <script>\n",
              "      async function quickchart(key) {\n",
              "        const containerElement = document.querySelector('#' + key);\n",
              "        const charts = await google.colab.kernel.invokeFunction(\n",
              "            'suggestCharts', [key], {});\n",
              "      }\n",
              "    </script>\n",
              "\n",
              "      <script>\n",
              "\n",
              "function displayQuickchartButton(domScope) {\n",
              "  let quickchartButtonEl =\n",
              "    domScope.querySelector('#df-661cad3d-8952-4095-8c24-a21d27439276 button.colab-df-quickchart');\n",
              "  quickchartButtonEl.style.display =\n",
              "    google.colab.kernel.accessAllowed ? 'block' : 'none';\n",
              "}\n",
              "\n",
              "        displayQuickchartButton(document);\n",
              "      </script>\n",
              "      <style>\n",
              "    .colab-df-container {\n",
              "      display:flex;\n",
              "      flex-wrap:wrap;\n",
              "      gap: 12px;\n",
              "    }\n",
              "\n",
              "    .colab-df-convert {\n",
              "      background-color: #E8F0FE;\n",
              "      border: none;\n",
              "      border-radius: 50%;\n",
              "      cursor: pointer;\n",
              "      display: none;\n",
              "      fill: #1967D2;\n",
              "      height: 32px;\n",
              "      padding: 0 0 0 0;\n",
              "      width: 32px;\n",
              "    }\n",
              "\n",
              "    .colab-df-convert:hover {\n",
              "      background-color: #E2EBFA;\n",
              "      box-shadow: 0px 1px 2px rgba(60, 64, 67, 0.3), 0px 1px 3px 1px rgba(60, 64, 67, 0.15);\n",
              "      fill: #174EA6;\n",
              "    }\n",
              "\n",
              "    [theme=dark] .colab-df-convert {\n",
              "      background-color: #3B4455;\n",
              "      fill: #D2E3FC;\n",
              "    }\n",
              "\n",
              "    [theme=dark] .colab-df-convert:hover {\n",
              "      background-color: #434B5C;\n",
              "      box-shadow: 0px 1px 3px 1px rgba(0, 0, 0, 0.15);\n",
              "      filter: drop-shadow(0px 1px 2px rgba(0, 0, 0, 0.3));\n",
              "      fill: #FFFFFF;\n",
              "    }\n",
              "  </style>\n",
              "\n",
              "      <script>\n",
              "        const buttonEl =\n",
              "          document.querySelector('#df-79d60186-da5d-436d-9e7b-64c3fe0faec2 button.colab-df-convert');\n",
              "        buttonEl.style.display =\n",
              "          google.colab.kernel.accessAllowed ? 'block' : 'none';\n",
              "\n",
              "        async function convertToInteractive(key) {\n",
              "          const element = document.querySelector('#df-79d60186-da5d-436d-9e7b-64c3fe0faec2');\n",
              "          const dataTable =\n",
              "            await google.colab.kernel.invokeFunction('convertToInteractive',\n",
              "                                                     [key], {});\n",
              "          if (!dataTable) return;\n",
              "\n",
              "          const docLinkHtml = 'Like what you see? Visit the ' +\n",
              "            '<a target=\"_blank\" href=https://colab.research.google.com/notebooks/data_table.ipynb>data table notebook</a>'\n",
              "            + ' to learn more about interactive tables.';\n",
              "          element.innerHTML = '';\n",
              "          dataTable['output_type'] = 'display_data';\n",
              "          await google.colab.output.renderOutput(dataTable, element);\n",
              "          const docLink = document.createElement('div');\n",
              "          docLink.innerHTML = docLinkHtml;\n",
              "          element.appendChild(docLink);\n",
              "        }\n",
              "      </script>\n",
              "    </div>\n",
              "  </div>\n"
            ]
          },
          "metadata": {},
          "execution_count": 36
        }
      ]
    },
    {
      "cell_type": "markdown",
      "source": [
        "Это мы сделали X выборку, а теперь надо подготовить y выборку. Тут можно воспользоваться LabelEncoder, но мне слишком лень читать к нему мануал, поэтому сделаем что-то свое."
      ],
      "metadata": {
        "id": "bm47drzt5BIi"
      }
    },
    {
      "cell_type": "code",
      "source": [
        "d={}\n",
        "i=0\n",
        "for word in pd.unique(y):\n",
        "    d[word]=i\n",
        "    i+=1\n",
        "d"
      ],
      "metadata": {
        "colab": {
          "base_uri": "https://localhost:8080/"
        },
        "id": "tY51GbiuswSq",
        "outputId": "83b24aaf-50fd-44e0-c006-344c031ce7ff"
      },
      "execution_count": 37,
      "outputs": [
        {
          "output_type": "execute_result",
          "data": {
            "text/plain": [
              "{'English': 0,\n",
              " 'Malayalam': 1,\n",
              " 'Hindi': 2,\n",
              " 'Tamil': 3,\n",
              " 'Portugeese': 4,\n",
              " 'French': 5,\n",
              " 'Dutch': 6,\n",
              " 'Spanish': 7,\n",
              " 'Greek': 8,\n",
              " 'Russian': 9,\n",
              " 'Danish': 10,\n",
              " 'Italian': 11,\n",
              " 'Turkish': 12,\n",
              " 'Sweedish': 13,\n",
              " 'Arabic': 14,\n",
              " 'German': 15,\n",
              " 'Kannada': 16}"
            ]
          },
          "metadata": {},
          "execution_count": 37
        }
      ]
    },
    {
      "cell_type": "markdown",
      "source": [
        "Мы написали функцию для кодирования языка, потому что fit в keras не умеет работать со строковыми данными, однако, когда мы будем угадывать язык, то надо выводить уже строчку - название языка.\n",
        "\n",
        "Так что надо написать функцию декодер."
      ],
      "metadata": {
        "id": "Mox8l-dGGfLv"
      }
    },
    {
      "cell_type": "code",
      "source": [
        "def get_lang(n):\n",
        "  for lang,num in d.items():\n",
        "    if (num == n):\n",
        "      return lang;"
      ],
      "metadata": {
        "id": "T1xuON5QGeJL"
      },
      "execution_count": 38,
      "outputs": []
    },
    {
      "cell_type": "code",
      "source": [
        "label=[]\n",
        "for word in y:\n",
        "    label.append(d[word])\n",
        "label=pd.DataFrame(label,columns=['langauge'])\n",
        "label"
      ],
      "metadata": {
        "colab": {
          "base_uri": "https://localhost:8080/",
          "height": 423
        },
        "id": "9cc3SrpFtbw9",
        "outputId": "248d6dbd-0901-4ba0-f6b0-c3735da84dbd"
      },
      "execution_count": 39,
      "outputs": [
        {
          "output_type": "execute_result",
          "data": {
            "text/plain": [
              "       langauge\n",
              "0             0\n",
              "1             0\n",
              "2             0\n",
              "3             0\n",
              "4             0\n",
              "...         ...\n",
              "10332        16\n",
              "10333        16\n",
              "10334        16\n",
              "10335        16\n",
              "10336        16\n",
              "\n",
              "[10337 rows x 1 columns]"
            ],
            "text/html": [
              "\n",
              "\n",
              "  <div id=\"df-11c9c9a8-3f3e-4209-ac24-d0060325990b\">\n",
              "    <div class=\"colab-df-container\">\n",
              "      <div>\n",
              "<style scoped>\n",
              "    .dataframe tbody tr th:only-of-type {\n",
              "        vertical-align: middle;\n",
              "    }\n",
              "\n",
              "    .dataframe tbody tr th {\n",
              "        vertical-align: top;\n",
              "    }\n",
              "\n",
              "    .dataframe thead th {\n",
              "        text-align: right;\n",
              "    }\n",
              "</style>\n",
              "<table border=\"1\" class=\"dataframe\">\n",
              "  <thead>\n",
              "    <tr style=\"text-align: right;\">\n",
              "      <th></th>\n",
              "      <th>langauge</th>\n",
              "    </tr>\n",
              "  </thead>\n",
              "  <tbody>\n",
              "    <tr>\n",
              "      <th>0</th>\n",
              "      <td>0</td>\n",
              "    </tr>\n",
              "    <tr>\n",
              "      <th>1</th>\n",
              "      <td>0</td>\n",
              "    </tr>\n",
              "    <tr>\n",
              "      <th>2</th>\n",
              "      <td>0</td>\n",
              "    </tr>\n",
              "    <tr>\n",
              "      <th>3</th>\n",
              "      <td>0</td>\n",
              "    </tr>\n",
              "    <tr>\n",
              "      <th>4</th>\n",
              "      <td>0</td>\n",
              "    </tr>\n",
              "    <tr>\n",
              "      <th>...</th>\n",
              "      <td>...</td>\n",
              "    </tr>\n",
              "    <tr>\n",
              "      <th>10332</th>\n",
              "      <td>16</td>\n",
              "    </tr>\n",
              "    <tr>\n",
              "      <th>10333</th>\n",
              "      <td>16</td>\n",
              "    </tr>\n",
              "    <tr>\n",
              "      <th>10334</th>\n",
              "      <td>16</td>\n",
              "    </tr>\n",
              "    <tr>\n",
              "      <th>10335</th>\n",
              "      <td>16</td>\n",
              "    </tr>\n",
              "    <tr>\n",
              "      <th>10336</th>\n",
              "      <td>16</td>\n",
              "    </tr>\n",
              "  </tbody>\n",
              "</table>\n",
              "<p>10337 rows × 1 columns</p>\n",
              "</div>\n",
              "      <button class=\"colab-df-convert\" onclick=\"convertToInteractive('df-11c9c9a8-3f3e-4209-ac24-d0060325990b')\"\n",
              "              title=\"Convert this dataframe to an interactive table.\"\n",
              "              style=\"display:none;\">\n",
              "\n",
              "  <svg xmlns=\"http://www.w3.org/2000/svg\" height=\"24px\"viewBox=\"0 0 24 24\"\n",
              "       width=\"24px\">\n",
              "    <path d=\"M0 0h24v24H0V0z\" fill=\"none\"/>\n",
              "    <path d=\"M18.56 5.44l.94 2.06.94-2.06 2.06-.94-2.06-.94-.94-2.06-.94 2.06-2.06.94zm-11 1L8.5 8.5l.94-2.06 2.06-.94-2.06-.94L8.5 2.5l-.94 2.06-2.06.94zm10 10l.94 2.06.94-2.06 2.06-.94-2.06-.94-.94-2.06-.94 2.06-2.06.94z\"/><path d=\"M17.41 7.96l-1.37-1.37c-.4-.4-.92-.59-1.43-.59-.52 0-1.04.2-1.43.59L10.3 9.45l-7.72 7.72c-.78.78-.78 2.05 0 2.83L4 21.41c.39.39.9.59 1.41.59.51 0 1.02-.2 1.41-.59l7.78-7.78 2.81-2.81c.8-.78.8-2.07 0-2.86zM5.41 20L4 18.59l7.72-7.72 1.47 1.35L5.41 20z\"/>\n",
              "  </svg>\n",
              "      </button>\n",
              "\n",
              "\n",
              "\n",
              "    <div id=\"df-2e10ee6e-d3c5-4cb1-b3da-60125ed68d68\">\n",
              "      <button class=\"colab-df-quickchart\" onclick=\"quickchart('df-2e10ee6e-d3c5-4cb1-b3da-60125ed68d68')\"\n",
              "              title=\"Suggest charts.\"\n",
              "              style=\"display:none;\">\n",
              "\n",
              "<svg xmlns=\"http://www.w3.org/2000/svg\" height=\"24px\"viewBox=\"0 0 24 24\"\n",
              "     width=\"24px\">\n",
              "    <g>\n",
              "        <path d=\"M19 3H5c-1.1 0-2 .9-2 2v14c0 1.1.9 2 2 2h14c1.1 0 2-.9 2-2V5c0-1.1-.9-2-2-2zM9 17H7v-7h2v7zm4 0h-2V7h2v10zm4 0h-2v-4h2v4z\"/>\n",
              "    </g>\n",
              "</svg>\n",
              "      </button>\n",
              "    </div>\n",
              "\n",
              "<style>\n",
              "  .colab-df-quickchart {\n",
              "    background-color: #E8F0FE;\n",
              "    border: none;\n",
              "    border-radius: 50%;\n",
              "    cursor: pointer;\n",
              "    display: none;\n",
              "    fill: #1967D2;\n",
              "    height: 32px;\n",
              "    padding: 0 0 0 0;\n",
              "    width: 32px;\n",
              "  }\n",
              "\n",
              "  .colab-df-quickchart:hover {\n",
              "    background-color: #E2EBFA;\n",
              "    box-shadow: 0px 1px 2px rgba(60, 64, 67, 0.3), 0px 1px 3px 1px rgba(60, 64, 67, 0.15);\n",
              "    fill: #174EA6;\n",
              "  }\n",
              "\n",
              "  [theme=dark] .colab-df-quickchart {\n",
              "    background-color: #3B4455;\n",
              "    fill: #D2E3FC;\n",
              "  }\n",
              "\n",
              "  [theme=dark] .colab-df-quickchart:hover {\n",
              "    background-color: #434B5C;\n",
              "    box-shadow: 0px 1px 3px 1px rgba(0, 0, 0, 0.15);\n",
              "    filter: drop-shadow(0px 1px 2px rgba(0, 0, 0, 0.3));\n",
              "    fill: #FFFFFF;\n",
              "  }\n",
              "</style>\n",
              "\n",
              "    <script>\n",
              "      async function quickchart(key) {\n",
              "        const containerElement = document.querySelector('#' + key);\n",
              "        const charts = await google.colab.kernel.invokeFunction(\n",
              "            'suggestCharts', [key], {});\n",
              "      }\n",
              "    </script>\n",
              "\n",
              "      <script>\n",
              "\n",
              "function displayQuickchartButton(domScope) {\n",
              "  let quickchartButtonEl =\n",
              "    domScope.querySelector('#df-2e10ee6e-d3c5-4cb1-b3da-60125ed68d68 button.colab-df-quickchart');\n",
              "  quickchartButtonEl.style.display =\n",
              "    google.colab.kernel.accessAllowed ? 'block' : 'none';\n",
              "}\n",
              "\n",
              "        displayQuickchartButton(document);\n",
              "      </script>\n",
              "      <style>\n",
              "    .colab-df-container {\n",
              "      display:flex;\n",
              "      flex-wrap:wrap;\n",
              "      gap: 12px;\n",
              "    }\n",
              "\n",
              "    .colab-df-convert {\n",
              "      background-color: #E8F0FE;\n",
              "      border: none;\n",
              "      border-radius: 50%;\n",
              "      cursor: pointer;\n",
              "      display: none;\n",
              "      fill: #1967D2;\n",
              "      height: 32px;\n",
              "      padding: 0 0 0 0;\n",
              "      width: 32px;\n",
              "    }\n",
              "\n",
              "    .colab-df-convert:hover {\n",
              "      background-color: #E2EBFA;\n",
              "      box-shadow: 0px 1px 2px rgba(60, 64, 67, 0.3), 0px 1px 3px 1px rgba(60, 64, 67, 0.15);\n",
              "      fill: #174EA6;\n",
              "    }\n",
              "\n",
              "    [theme=dark] .colab-df-convert {\n",
              "      background-color: #3B4455;\n",
              "      fill: #D2E3FC;\n",
              "    }\n",
              "\n",
              "    [theme=dark] .colab-df-convert:hover {\n",
              "      background-color: #434B5C;\n",
              "      box-shadow: 0px 1px 3px 1px rgba(0, 0, 0, 0.15);\n",
              "      filter: drop-shadow(0px 1px 2px rgba(0, 0, 0, 0.3));\n",
              "      fill: #FFFFFF;\n",
              "    }\n",
              "  </style>\n",
              "\n",
              "      <script>\n",
              "        const buttonEl =\n",
              "          document.querySelector('#df-11c9c9a8-3f3e-4209-ac24-d0060325990b button.colab-df-convert');\n",
              "        buttonEl.style.display =\n",
              "          google.colab.kernel.accessAllowed ? 'block' : 'none';\n",
              "\n",
              "        async function convertToInteractive(key) {\n",
              "          const element = document.querySelector('#df-11c9c9a8-3f3e-4209-ac24-d0060325990b');\n",
              "          const dataTable =\n",
              "            await google.colab.kernel.invokeFunction('convertToInteractive',\n",
              "                                                     [key], {});\n",
              "          if (!dataTable) return;\n",
              "\n",
              "          const docLinkHtml = 'Like what you see? Visit the ' +\n",
              "            '<a target=\"_blank\" href=https://colab.research.google.com/notebooks/data_table.ipynb>data table notebook</a>'\n",
              "            + ' to learn more about interactive tables.';\n",
              "          element.innerHTML = '';\n",
              "          dataTable['output_type'] = 'display_data';\n",
              "          await google.colab.output.renderOutput(dataTable, element);\n",
              "          const docLink = document.createElement('div');\n",
              "          docLink.innerHTML = docLinkHtml;\n",
              "          element.appendChild(docLink);\n",
              "        }\n",
              "      </script>\n",
              "    </div>\n",
              "  </div>\n"
            ]
          },
          "metadata": {},
          "execution_count": 39
        }
      ]
    },
    {
      "cell_type": "code",
      "source": [
        "X_train, X_test, y_train, y_test = train_test_split(X1, label, test_size=0.1, random_state=33)"
      ],
      "metadata": {
        "id": "U85T0YEussm2"
      },
      "execution_count": 40,
      "outputs": []
    },
    {
      "cell_type": "markdown",
      "source": [
        "## Обучаем"
      ],
      "metadata": {
        "id": "WtDSYGNEglpg"
      }
    },
    {
      "cell_type": "markdown",
      "source": [
        "Чтобы обучить модель с помощью метода fit, в keras надо задать несколько параметров в функции compile().\n",
        "\n",
        "А именно:\n",
        "\n",
        "\n",
        "\n",
        "1.   Оптимизатор - воспользуемся алгоритмом Адама\n",
        "2.   Функция потерь - воспользуемся кросс-энтропией, только будем возвращать индекс самой подходящей категории а не вектор из энтропий каждой категории, то есть это будет sparse_categorical_crossentropy\n",
        "3.   Метрика для мониторинга (опционально) - я буду использовать accuracy\n",
        "\n"
      ],
      "metadata": {
        "id": "Ry54cqhkgq_K"
      }
    },
    {
      "cell_type": "code",
      "source": [
        "model.compile(optimizer='adam', loss='sparse_categorical_crossentropy', metrics=['accuracy'])"
      ],
      "metadata": {
        "id": "UgWNH8lPqiO3"
      },
      "execution_count": 41,
      "outputs": []
    },
    {
      "cell_type": "code",
      "source": [
        "history = model.fit(X_train, y_train, epochs=2)"
      ],
      "metadata": {
        "colab": {
          "base_uri": "https://localhost:8080/"
        },
        "id": "hXZXSBm8qnqR",
        "outputId": "4a7fca2a-42a5-4e72-9b1c-079071d6c1d1"
      },
      "execution_count": 42,
      "outputs": [
        {
          "output_type": "stream",
          "name": "stdout",
          "text": [
            "Epoch 1/2\n",
            "291/291 [==============================] - 56s 189ms/step - loss: 0.5843 - accuracy: 0.8463\n",
            "Epoch 2/2\n",
            "291/291 [==============================] - 56s 191ms/step - loss: 0.0229 - accuracy: 0.9949\n"
          ]
        }
      ]
    },
    {
      "cell_type": "code",
      "source": [
        "prediction = model.predict(X_test)"
      ],
      "metadata": {
        "colab": {
          "base_uri": "https://localhost:8080/"
        },
        "id": "iI7DwZbQtLgg",
        "outputId": "7cb847a4-f64d-43bc-becd-a2fd3104ba44"
      },
      "execution_count": 43,
      "outputs": [
        {
          "output_type": "stream",
          "name": "stdout",
          "text": [
            "33/33 [==============================] - 2s 47ms/step\n"
          ]
        }
      ]
    },
    {
      "cell_type": "code",
      "source": [
        "ac3 = model.evaluate(X_test, y_test)[1]"
      ],
      "metadata": {
        "colab": {
          "base_uri": "https://localhost:8080/"
        },
        "id": "5fdUm8un6OBQ",
        "outputId": "7d9f180d-b87a-416d-cd9e-ca89659f2bac"
      },
      "execution_count": 44,
      "outputs": [
        {
          "output_type": "stream",
          "name": "stdout",
          "text": [
            "33/33 [==============================] - 1s 28ms/step - loss: 0.0891 - accuracy: 0.9739\n"
          ]
        }
      ]
    },
    {
      "cell_type": "code",
      "source": [
        "# хотим построить y_pred для confusion matrix и classification report\n",
        "y_pred = []\n",
        "for row in prediction:\n",
        "  y_pred.append(np.argmax(row))"
      ],
      "metadata": {
        "id": "P48-r6bWvNun"
      },
      "execution_count": 45,
      "outputs": []
    },
    {
      "cell_type": "code",
      "source": [
        "cr3 = classification_report(y_test,y_pred)"
      ],
      "metadata": {
        "id": "QK43y5z3vpcD"
      },
      "execution_count": 46,
      "outputs": []
    },
    {
      "cell_type": "code",
      "source": [
        "print(\"Accuracy is \", ac3)"
      ],
      "metadata": {
        "colab": {
          "base_uri": "https://localhost:8080/"
        },
        "id": "YaZWNEAQFJWs",
        "outputId": "b6509527-9bb4-49b6-af4b-6ce101d1fec2"
      },
      "execution_count": 47,
      "outputs": [
        {
          "output_type": "stream",
          "name": "stdout",
          "text": [
            "Accuracy is  0.9738878011703491\n"
          ]
        }
      ]
    },
    {
      "cell_type": "code",
      "source": [
        "print(cr3)"
      ],
      "metadata": {
        "colab": {
          "base_uri": "https://localhost:8080/"
        },
        "id": "wnpVBE4OtJAp",
        "outputId": "a21468ee-0786-424c-a7c5-2e5973121b0e"
      },
      "execution_count": 48,
      "outputs": [
        {
          "output_type": "stream",
          "name": "stdout",
          "text": [
            "              precision    recall  f1-score   support\n",
            "\n",
            "           0       0.99      0.99      0.99       138\n",
            "           1       1.00      0.95      0.98        62\n",
            "           2       1.00      1.00      1.00         6\n",
            "           3       0.79      1.00      0.89        58\n",
            "           4       0.95      0.96      0.96        79\n",
            "           5       1.00      1.00      1.00       104\n",
            "           6       1.00      1.00      1.00        42\n",
            "           7       0.99      0.93      0.96        75\n",
            "           8       1.00      0.97      0.99        36\n",
            "           9       1.00      0.97      0.98        66\n",
            "          10       0.93      0.95      0.94        42\n",
            "          11       0.97      0.99      0.98        67\n",
            "          12       1.00      0.93      0.97        61\n",
            "          13       1.00      0.95      0.98        64\n",
            "          14       1.00      1.00      1.00        43\n",
            "          15       1.00      0.96      0.98        55\n",
            "          16       1.00      1.00      1.00        36\n",
            "\n",
            "    accuracy                           0.97      1034\n",
            "   macro avg       0.98      0.97      0.98      1034\n",
            "weighted avg       0.98      0.97      0.97      1034\n",
            "\n"
          ]
        }
      ]
    },
    {
      "cell_type": "markdown",
      "source": [
        "**Анализ ошибок**"
      ],
      "metadata": {
        "id": "tAor4Tftv7WJ"
      }
    },
    {
      "cell_type": "markdown",
      "source": [
        "Так же постром Confusion Matrix"
      ],
      "metadata": {
        "id": "2c3Q8TLwwAAd"
      }
    },
    {
      "cell_type": "code",
      "source": [
        "cm3 = confusion_matrix(y_test, y_pred)"
      ],
      "metadata": {
        "id": "EQTORNEywH50"
      },
      "execution_count": 49,
      "outputs": []
    },
    {
      "cell_type": "code",
      "source": [
        "plt.figure(figsize=(15,15))\n",
        "ax= plt.subplot()\n",
        "sns.heatmap(cm3, annot=True, fmt='g', ax=ax,cbar=False,cmap='RdBu')\n",
        "ax.set_xlabel('Predicted labels')\n",
        "ax.set_ylabel('True labels')\n",
        "ax.set_title('Confusion Matrix')\n",
        "ax.xaxis.set_ticklabels(d.keys())\n",
        "ax.yaxis.set_ticklabels(d.keys())"
      ],
      "metadata": {
        "colab": {
          "base_uri": "https://localhost:8080/",
          "height": 1000
        },
        "id": "RBG9ABMTwDx1",
        "outputId": "77ed4cbe-cf61-4a50-eca3-ccf9df184e08"
      },
      "execution_count": 50,
      "outputs": [
        {
          "output_type": "execute_result",
          "data": {
            "text/plain": [
              "[Text(0, 0.5, 'English'),\n",
              " Text(0, 1.5, 'Malayalam'),\n",
              " Text(0, 2.5, 'Hindi'),\n",
              " Text(0, 3.5, 'Tamil'),\n",
              " Text(0, 4.5, 'Portugeese'),\n",
              " Text(0, 5.5, 'French'),\n",
              " Text(0, 6.5, 'Dutch'),\n",
              " Text(0, 7.5, 'Spanish'),\n",
              " Text(0, 8.5, 'Greek'),\n",
              " Text(0, 9.5, 'Russian'),\n",
              " Text(0, 10.5, 'Danish'),\n",
              " Text(0, 11.5, 'Italian'),\n",
              " Text(0, 12.5, 'Turkish'),\n",
              " Text(0, 13.5, 'Sweedish'),\n",
              " Text(0, 14.5, 'Arabic'),\n",
              " Text(0, 15.5, 'German'),\n",
              " Text(0, 16.5, 'Kannada')]"
            ]
          },
          "metadata": {},
          "execution_count": 50
        },
        {
          "output_type": "display_data",
          "data": {
            "text/plain": [
              "<Figure size 1500x1500 with 1 Axes>"
            ],
            "image/png": "[encoded data removed]"
          },
          "metadata": {}
        }
      ]
    },
    {
      "cell_type": "markdown",
      "source": [
        "Тут мы видим, что большинство языков нейросеть распознала правильно, но иногда путает некоторые языки\n",
        "\n",
        "\n",
        "Решить эту проблеу можно по-разному, но самый простой вариант - это заняться оптимизацией гиперпараметров."
      ],
      "metadata": {
        "id": "622jndD0wpjU"
      }
    },
    {
      "cell_type": "markdown",
      "source": [
        "## Результаты"
      ],
      "metadata": {
        "id": "qtKk52DBJnJ3"
      }
    },
    {
      "cell_type": "code",
      "source": [
        "results = pd.DataFrame([ac1, ac2, ac3], index = [\"Model 1\",\n",
        "                                \"Model 2\",\n",
        "                                \"Model 3\"],\n",
        "                       columns=[\"Accuracy\"])\n",
        "results"
      ],
      "metadata": {
        "colab": {
          "base_uri": "https://localhost:8080/",
          "height": 143
        },
        "id": "jlOhNJTJ64gK",
        "outputId": "af794a38-d24b-4aa8-863e-d5f435e9f5af"
      },
      "execution_count": 51,
      "outputs": [
        {
          "output_type": "execute_result",
          "data": {
            "text/plain": [
              "         Accuracy\n",
              "Model 1  0.982592\n",
              "Model 2  0.849903\n",
              "Model 3  0.973888"
            ],
            "text/html": [
              "\n",
              "\n",
              "  <div id=\"df-8cf686ba-fd22-4725-90d4-1072c56d3d3f\">\n",
              "    <div class=\"colab-df-container\">\n",
              "      <div>\n",
              "<style scoped>\n",
              "    .dataframe tbody tr th:only-of-type {\n",
              "        vertical-align: middle;\n",
              "    }\n",
              "\n",
              "    .dataframe tbody tr th {\n",
              "        vertical-align: top;\n",
              "    }\n",
              "\n",
              "    .dataframe thead th {\n",
              "        text-align: right;\n",
              "    }\n",
              "</style>\n",
              "<table border=\"1\" class=\"dataframe\">\n",
              "  <thead>\n",
              "    <tr style=\"text-align: right;\">\n",
              "      <th></th>\n",
              "      <th>Accuracy</th>\n",
              "    </tr>\n",
              "  </thead>\n",
              "  <tbody>\n",
              "    <tr>\n",
              "      <th>Model 1</th>\n",
              "      <td>0.982592</td>\n",
              "    </tr>\n",
              "    <tr>\n",
              "      <th>Model 2</th>\n",
              "      <td>0.849903</td>\n",
              "    </tr>\n",
              "    <tr>\n",
              "      <th>Model 3</th>\n",
              "      <td>0.973888</td>\n",
              "    </tr>\n",
              "  </tbody>\n",
              "</table>\n",
              "</div>\n",
              "      <button class=\"colab-df-convert\" onclick=\"convertToInteractive('df-8cf686ba-fd22-4725-90d4-1072c56d3d3f')\"\n",
              "              title=\"Convert this dataframe to an interactive table.\"\n",
              "              style=\"display:none;\">\n",
              "\n",
              "  <svg xmlns=\"http://www.w3.org/2000/svg\" height=\"24px\"viewBox=\"0 0 24 24\"\n",
              "       width=\"24px\">\n",
              "    <path d=\"M0 0h24v24H0V0z\" fill=\"none\"/>\n",
              "    <path d=\"M18.56 5.44l.94 2.06.94-2.06 2.06-.94-2.06-.94-.94-2.06-.94 2.06-2.06.94zm-11 1L8.5 8.5l.94-2.06 2.06-.94-2.06-.94L8.5 2.5l-.94 2.06-2.06.94zm10 10l.94 2.06.94-2.06 2.06-.94-2.06-.94-.94-2.06-.94 2.06-2.06.94z\"/><path d=\"M17.41 7.96l-1.37-1.37c-.4-.4-.92-.59-1.43-.59-.52 0-1.04.2-1.43.59L10.3 9.45l-7.72 7.72c-.78.78-.78 2.05 0 2.83L4 21.41c.39.39.9.59 1.41.59.51 0 1.02-.2 1.41-.59l7.78-7.78 2.81-2.81c.8-.78.8-2.07 0-2.86zM5.41 20L4 18.59l7.72-7.72 1.47 1.35L5.41 20z\"/>\n",
              "  </svg>\n",
              "      </button>\n",
              "\n",
              "\n",
              "\n",
              "    <div id=\"df-34707010-bba8-428d-8945-fd1d11da3d90\">\n",
              "      <button class=\"colab-df-quickchart\" onclick=\"quickchart('df-34707010-bba8-428d-8945-fd1d11da3d90')\"\n",
              "              title=\"Suggest charts.\"\n",
              "              style=\"display:none;\">\n",
              "\n",
              "<svg xmlns=\"http://www.w3.org/2000/svg\" height=\"24px\"viewBox=\"0 0 24 24\"\n",
              "     width=\"24px\">\n",
              "    <g>\n",
              "        <path d=\"M19 3H5c-1.1 0-2 .9-2 2v14c0 1.1.9 2 2 2h14c1.1 0 2-.9 2-2V5c0-1.1-.9-2-2-2zM9 17H7v-7h2v7zm4 0h-2V7h2v10zm4 0h-2v-4h2v4z\"/>\n",
              "    </g>\n",
              "</svg>\n",
              "      </button>\n",
              "    </div>\n",
              "\n",
              "<style>\n",
              "  .colab-df-quickchart {\n",
              "    background-color: #E8F0FE;\n",
              "    border: none;\n",
              "    border-radius: 50%;\n",
              "    cursor: pointer;\n",
              "    display: none;\n",
              "    fill: #1967D2;\n",
              "    height: 32px;\n",
              "    padding: 0 0 0 0;\n",
              "    width: 32px;\n",
              "  }\n",
              "\n",
              "  .colab-df-quickchart:hover {\n",
              "    background-color: #E2EBFA;\n",
              "    box-shadow: 0px 1px 2px rgba(60, 64, 67, 0.3), 0px 1px 3px 1px rgba(60, 64, 67, 0.15);\n",
              "    fill: #174EA6;\n",
              "  }\n",
              "\n",
              "  [theme=dark] .colab-df-quickchart {\n",
              "    background-color: #3B4455;\n",
              "    fill: #D2E3FC;\n",
              "  }\n",
              "\n",
              "  [theme=dark] .colab-df-quickchart:hover {\n",
              "    background-color: #434B5C;\n",
              "    box-shadow: 0px 1px 3px 1px rgba(0, 0, 0, 0.15);\n",
              "    filter: drop-shadow(0px 1px 2px rgba(0, 0, 0, 0.3));\n",
              "    fill: #FFFFFF;\n",
              "  }\n",
              "</style>\n",
              "\n",
              "    <script>\n",
              "      async function quickchart(key) {\n",
              "        const containerElement = document.querySelector('#' + key);\n",
              "        const charts = await google.colab.kernel.invokeFunction(\n",
              "            'suggestCharts', [key], {});\n",
              "      }\n",
              "    </script>\n",
              "\n",
              "      <script>\n",
              "\n",
              "function displayQuickchartButton(domScope) {\n",
              "  let quickchartButtonEl =\n",
              "    domScope.querySelector('#df-34707010-bba8-428d-8945-fd1d11da3d90 button.colab-df-quickchart');\n",
              "  quickchartButtonEl.style.display =\n",
              "    google.colab.kernel.accessAllowed ? 'block' : 'none';\n",
              "}\n",
              "\n",
              "        displayQuickchartButton(document);\n",
              "      </script>\n",
              "      <style>\n",
              "    .colab-df-container {\n",
              "      display:flex;\n",
              "      flex-wrap:wrap;\n",
              "      gap: 12px;\n",
              "    }\n",
              "\n",
              "    .colab-df-convert {\n",
              "      background-color: #E8F0FE;\n",
              "      border: none;\n",
              "      border-radius: 50%;\n",
              "      cursor: pointer;\n",
              "      display: none;\n",
              "      fill: #1967D2;\n",
              "      height: 32px;\n",
              "      padding: 0 0 0 0;\n",
              "      width: 32px;\n",
              "    }\n",
              "\n",
              "    .colab-df-convert:hover {\n",
              "      background-color: #E2EBFA;\n",
              "      box-shadow: 0px 1px 2px rgba(60, 64, 67, 0.3), 0px 1px 3px 1px rgba(60, 64, 67, 0.15);\n",
              "      fill: #174EA6;\n",
              "    }\n",
              "\n",
              "    [theme=dark] .colab-df-convert {\n",
              "      background-color: #3B4455;\n",
              "      fill: #D2E3FC;\n",
              "    }\n",
              "\n",
              "    [theme=dark] .colab-df-convert:hover {\n",
              "      background-color: #434B5C;\n",
              "      box-shadow: 0px 1px 3px 1px rgba(0, 0, 0, 0.15);\n",
              "      filter: drop-shadow(0px 1px 2px rgba(0, 0, 0, 0.3));\n",
              "      fill: #FFFFFF;\n",
              "    }\n",
              "  </style>\n",
              "\n",
              "      <script>\n",
              "        const buttonEl =\n",
              "          document.querySelector('#df-8cf686ba-fd22-4725-90d4-1072c56d3d3f button.colab-df-convert');\n",
              "        buttonEl.style.display =\n",
              "          google.colab.kernel.accessAllowed ? 'block' : 'none';\n",
              "\n",
              "        async function convertToInteractive(key) {\n",
              "          const element = document.querySelector('#df-8cf686ba-fd22-4725-90d4-1072c56d3d3f');\n",
              "          const dataTable =\n",
              "            await google.colab.kernel.invokeFunction('convertToInteractive',\n",
              "                                                     [key], {});\n",
              "          if (!dataTable) return;\n",
              "\n",
              "          const docLinkHtml = 'Like what you see? Visit the ' +\n",
              "            '<a target=\"_blank\" href=https://colab.research.google.com/notebooks/data_table.ipynb>data table notebook</a>'\n",
              "            + ' to learn more about interactive tables.';\n",
              "          element.innerHTML = '';\n",
              "          dataTable['output_type'] = 'display_data';\n",
              "          await google.colab.output.renderOutput(dataTable, element);\n",
              "          const docLink = document.createElement('div');\n",
              "          docLink.innerHTML = docLinkHtml;\n",
              "          element.appendChild(docLink);\n",
              "        }\n",
              "      </script>\n",
              "    </div>\n",
              "  </div>\n"
            ]
          },
          "metadata": {},
          "execution_count": 51
        }
      ]
    },
    {
      "cell_type": "markdown",
      "source": [
        "Несмотря на то, что у первой модели точность лучше, я воспользуюсь третьей моделью, так как она была обучена более грамотно и имеет возможность дальнейшей оптимизации за счет изменения гиперпараметров."
      ],
      "metadata": {
        "id": "P68kyuQvI7Vs"
      }
    },
    {
      "cell_type": "code",
      "source": [
        "def predict(sentence):\n",
        "  sentence = PipelineModel.transform([sentence])\n",
        "  sentence = pd.DataFrame.sparse.from_spmatrix(sentence)\n",
        "  print(get_lang(np.argmax(model.predict(sentence))))"
      ],
      "metadata": {
        "id": "fqTApp5YFjih"
      },
      "execution_count": 52,
      "outputs": []
    },
    {
      "cell_type": "code",
      "source": [
        "# English\n",
        "predict(\"LANGUAGE DETECTION MODEL CHECK\")\n",
        "# French\n",
        "predict(\"VÉRIFICATION DU MODÈLE DE DÉTECTION DE LA LANGUE\")\n",
        "# Arabic\n",
        "predict(\"توففحص نموذج الكشف عن اللغة\")\n",
        "# Spanish\n",
        "predict(\"VERIFICACIÓN DEL MODELO DE DETECCIÓN DE IDIOMAS\")\n",
        "# Malayalam\n",
        "predict(\"ലാംഗ്വേജ് ഡിറ്റക്ഷൻ മോഡൽ ചെക്ക്\")\n",
        "# Russian\n",
        "predict(\"ПРОВЕРКА МОДЕЛИ ОПРЕДЕЛЕНИЯ ЯЗЫКА\")\n",
        "# Hindi\n",
        "predict('भाषा का पता लगाने वाले मॉडल की जांच')\n",
        "# Hindi\n",
        "predict(' boyit9h एनालिटिक्स alhgserog 90980879809 bguytfivb ahgseporiga प्रदान करता है')"
      ],
      "metadata": {
        "colab": {
          "base_uri": "https://localhost:8080/"
        },
        "id": "GpCO-sI7xbp2",
        "outputId": "7e8827a1-d124-4d27-8153-590943dcd07d"
      },
      "execution_count": 54,
      "outputs": [
        {
          "output_type": "stream",
          "name": "stdout",
          "text": [
            "1/1 [==============================] - 0s 51ms/step\n",
            "English\n",
            "1/1 [==============================] - 0s 112ms/step\n",
            "French\n",
            "1/1 [==============================] - 0s 43ms/step\n",
            "Arabic\n",
            "1/1 [==============================] - 0s 20ms/step\n",
            "Spanish\n",
            "1/1 [==============================] - 0s 20ms/step\n",
            "Malayalam\n",
            "1/1 [==============================] - 0s 22ms/step\n",
            "Russian\n",
            "1/1 [==============================] - 0s 20ms/step\n",
            "Hindi\n",
            "1/1 [==============================] - 0s 21ms/step\n",
            "Turkish\n"
          ]
        }
      ]
    },
    {
      "cell_type": "markdown",
      "source": [
        "Последнее предложение иногда определяет как Турецкий, это можно поправить засчет оптимизации гиперпараметров."
      ],
      "metadata": {
        "id": "7peeACIB8XtN"
      }
    },
    {
      "cell_type": "markdown",
      "source": [
        "## Оптимизация гиперпараметров"
      ],
      "metadata": {
        "id": "p40ddRhEqaCA"
      }
    },
    {
      "cell_type": "markdown",
      "source": [
        "Это больше относится к последней модели конечно, но тут можно попробовать поменять следующие гиперпараметры:\n",
        "\n",
        "\n",
        "\n",
        "\n",
        "*   Оптимизатор\n",
        "*   Функцию активации нейрона\n",
        "*   Количество эпох обучения\n",
        "\n",
        "\n",
        "\n"
      ],
      "metadata": {
        "id": "m9FFmBqMqtDE"
      }
    }
  ]
}